{
 "cells": [
  {
   "cell_type": "code",
   "execution_count": 1,
   "id": "8dd13ebe",
   "metadata": {},
   "outputs": [],
   "source": [
    "%load_ext snakeviz\n",
    "import xarray as xr\n",
    "import xarray\n",
    "xarray.set_options(file_cache_maxsize=1)\n",
    "import dfm_tools as dfmt\n"
   ]
  },
  {
   "cell_type": "code",
   "execution_count": 4,
   "id": "d62fb1c2",
   "metadata": {},
   "outputs": [
    {
     "name": "stdout",
     "output_type": "stream",
     "text": [
      " \n",
      "*** Profile stats marshalled to file 'C:\\\\Users\\\\veenstra\\\\AppData\\\\Local\\\\Temp\\\\tmp4uig6j_1'. \n",
      "Embedding SnakeViz in this document...\n"
     ]
    },
    {
     "data": {
      "text/html": [
       "\n",
       "<iframe id='snakeviz-3516c7a7-9b45-11ed-a5b0-005056acbdb0' frameborder=0 seamless width='100%' height='1000'></iframe>\n",
       "<script>document.getElementById(\"snakeviz-3516c7a7-9b45-11ed-a5b0-005056acbdb0\").setAttribute(\"src\", \"http://\" + document.location.hostname + \":8080/snakeviz/C%3A%5CUsers%5Cveenstra%5CAppData%5CLocal%5CTemp%5Ctmp4uig6j_1\")</script>\n"
      ],
      "text/plain": [
       "<IPython.core.display.HTML object>"
      ]
     },
     "metadata": {},
     "output_type": "display_data"
    }
   ],
   "source": [
    "%reload_ext snakeviz\n",
    "\n",
    "file_nc = r'p:\\1204257-dcsmzuno\\2006-2012\\3D-DCSM-FM\\A18b_ntsu1\\DFM_OUTPUT_DCSM-FM_0_5nm\\DCSM-FM_0_5nm_0000_map.nc'\n",
    "#file_nc = r'p:\\11206813-006-kpp2021_rmm-2d\\C_Work\\31_RMM_FMmodel\\computations\\model_setup\\run_207\\results\\RMM_dflowfm_0000_map.nc'\n",
    "file_nc = r'p:\\archivedprojects\\11203379-005-mwra-updated-bem\\03_model\\02_final\\A72_ntsu0_kzlb2\\DFM_OUTPUT_MB_02\\MB_02_0007_map.nc'\n",
    "\n",
    "#, cache=False\n",
    "%snakeviz ds = xr.open_dataset(file_nc)\n"
   ]
  },
  {
   "cell_type": "code",
   "execution_count": null,
   "id": "d7ae04da",
   "metadata": {},
   "outputs": [],
   "source": []
  }
 ],
 "metadata": {
  "kernelspec": {
   "display_name": "Python 3 (ipykernel)",
   "language": "python",
   "name": "python3"
  },
  "language_info": {
   "codemirror_mode": {
    "name": "ipython",
    "version": 3
   },
   "file_extension": ".py",
   "mimetype": "text/x-python",
   "name": "python",
   "nbconvert_exporter": "python",
   "pygments_lexer": "ipython3",
   "version": "3.8.13"
  }
 },
 "nbformat": 4,
 "nbformat_minor": 5
}
