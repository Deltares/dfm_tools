{
 "cells": [
  {
   "cell_type": "code",
   "execution_count": 1,
   "id": "8dd13ebe",
   "metadata": {},
   "outputs": [],
   "source": [
    "%load_ext snakeviz\n",
    "import xarray as xr\n",
    "import xarray\n",
    "xarray.set_options(file_cache_maxsize=1)\n",
    "import dfm_tools as dfmt\n"
   ]
  },
  {
   "cell_type": "code",
   "execution_count": 5,
   "id": "d62fb1c2",
   "metadata": {},
   "outputs": [
    {
     "name": "stdout",
     "output_type": "stream",
     "text": [
      ">> xu.open_dataset() with 1 partition(s): 1 : 1.80 sec\n",
      ">> xu.merge_partitions() with 1 partition(s): 0.07 sec\n",
      ">> decode times for merged dataset: 0.02 sec\n",
      ">> dfmt.open_partitioned_dataset() total: 1.89 sec\n",
      " \n",
      "*** Profile stats marshalled to file 'C:\\\\Users\\\\veenstra\\\\AppData\\\\Local\\\\Temp\\\\tmph_hgckpi'. \n",
      "Embedding SnakeViz in this document...\n"
     ]
    },
    {
     "data": {
      "text/html": [
       "\n",
       "<iframe id='snakeviz-8b68d172-9776-11ed-8d7e-005056ac5c6d' frameborder=0 seamless width='100%' height='1000'></iframe>\n",
       "<script>document.getElementById(\"snakeviz-8b68d172-9776-11ed-8d7e-005056ac5c6d\").setAttribute(\"src\", \"http://\" + document.location.hostname + \":8080/snakeviz/C%3A%5CUsers%5Cveenstra%5CAppData%5CLocal%5CTemp%5Ctmph_hgckpi\")</script>\n"
      ],
      "text/plain": [
       "<IPython.core.display.HTML object>"
      ]
     },
     "metadata": {},
     "output_type": "display_data"
    }
   ],
   "source": [
    "%reload_ext snakeviz\n",
    "\n",
    "file_nc = r'p:\\1204257-dcsmzuno\\2006-2012\\3D-DCSM-FM\\A18b_ntsu1\\DFM_OUTPUT_DCSM-FM_0_5nm\\DCSM-FM_0_5nm_0000_map.nc'\n",
    "#file_nc = r'p:\\11206813-006-kpp2021_rmm-2d\\C_Work\\31_RMM_FMmodel\\computations\\model_setup\\run_207\\results\\RMM_dflowfm_0000_map.nc'\n",
    "file_nc = r'p:\\archivedprojects\\11203379-005-mwra-updated-bem\\03_model\\02_final\\A72_ntsu0_kzlb2\\DFM_OUTPUT_MB_02\\MB_02_0007_map.nc'\n",
    "#file_nc = r'c:\\DATA\\MB_02_0000_map.nc'\n",
    "\n",
    "#, cache=False\n",
    "%snakeviz ds = dfmt.open_partitioned_dataset(file_nc, decode_times_perfile=False)\n"
   ]
  },
  {
   "cell_type": "code",
   "execution_count": null,
   "id": "d7ae04da",
   "metadata": {},
   "outputs": [],
   "source": []
  },
  {
   "cell_type": "code",
   "execution_count": 3,
   "id": "07b107f4",
   "metadata": {},
   "outputs": [
    {
     "name": "stdout",
     "output_type": "stream",
     "text": [
      "processing DCSM-FM_0_5nm_0*_map.nc\n",
      ">> xu.open_dataset() with 20 partition(s): 1 2 3 4 5 6 7 8 9 10 11 12 13 14 15 16 17 18 19 20 : 17.74 sec\n",
      ">> xu.merge_partitions() with 20 partition(s): 4.69 sec\n",
      "processing RMM_dflowfm_0*_map.nc\n",
      ">> xu.open_dataset() with 8 partition(s): 1 2 3 4 5 6 7 8 : 10.26 sec\n",
      ">> xu.merge_partitions() with 8 partition(s): 4.40 sec\n",
      "processing gtsm_model_0*_map.nc\n",
      ">> xu.open_dataset() with 8 partition(s): 1 2 3 4 5 6 7 8 : 14.93 sec\n",
      ">> xu.merge_partitions() with 8 partition(s): 31.73 sec\n",
      "processing RMM_dflowfm_2019_0*_map.nc\n",
      ">> xu.open_dataset() with 40 partition(s): 1 2 3 4 5 6 7 8 9 10 11 12 13 14 15 16 17 18 19 20 21 22 23 24 25 26 27 28 29 30 31 32 33 34 35 36 37 38 39 40 : 24.67 sec\n",
      ">> xu.merge_partitions() with 40 partition(s): 7.01 sec\n",
      "processing MB_02_0*_map.nc\n",
      ">> xu.open_dataset() with 20 partition(s): 1 2 3 4 5 6 7 8 9 10 11 12 13 14 15 16 17 18 19 20 : 65.22 sec\n",
      ">> xu.merge_partitions() with 20 partition(s): 3.97 sec\n"
     ]
    }
   ],
   "source": [
    "import os\n",
    "import datetime as dt\n",
    "import glob\n",
    "import xugrid as xu\n",
    "\n",
    "file_nc_list = ['p:\\\\1204257-dcsmzuno\\\\2006-2012\\\\3D-DCSM-FM\\\\A18b_ntsu1\\\\DFM_OUTPUT_DCSM-FM_0_5nm\\\\DCSM-FM_0_5nm_0*_map.nc', #3D DCSM\n",
    "                'p:\\\\11206813-006-kpp2021_rmm-2d\\\\C_Work\\\\31_RMM_FMmodel\\\\computations\\\\model_setup\\\\run_207\\\\results\\\\RMM_dflowfm_0*_map.nc', #RMM 2D\n",
    "                'p:\\\\1230882-emodnet_hrsm\\\\GTSMv5.0\\\\runs\\\\reference_GTSMv4.1_wiCA_2.20.06_mapformat4\\\\output\\\\gtsm_model_0*_map.nc', #GTSM 2D\n",
    "                'p:\\\\11208053-005-kpp2022-rmm3d\\\\C_Work\\\\01_saltiMarlein\\\\RMM_2019_computations_02\\\\computations\\\\theo_03\\\\DFM_OUTPUT_RMM_dflowfm_2019\\\\RMM_dflowfm_2019_0*_map.nc', #RMM 3D\n",
    "                'p:\\\\archivedprojects\\\\11203379-005-mwra-updated-bem\\\\03_model\\\\02_final\\\\A72_ntsu0_kzlb2\\\\DFM_OUTPUT_MB_02\\\\MB_02_0*_map.nc',\n",
    "                ]\n",
    "\n",
    "for file_nc in file_nc_list:\n",
    "    print('processing %s'%(os.path.basename(file_nc)))\n",
    "    dtstart_all = dt.datetime.now()\n",
    "    if isinstance(file_nc,list):\n",
    "        file_nc_list = file_nc\n",
    "    else:\n",
    "        file_nc_list = glob.glob(file_nc)\n",
    "    if len(file_nc_list)==0:\n",
    "        raise Exception('file(s) not found, empty file_nc_list')\n",
    "    \n",
    "    print(f'>> xu.open_dataset() with {len(file_nc_list)} partition(s): ',end='')\n",
    "    dtstart = dt.datetime.now()\n",
    "    partitions = []\n",
    "    for iF, file_nc_one in enumerate(file_nc_list):\n",
    "        print(iF+1,end=' ')\n",
    "        uds = xu.open_dataset(file_nc_one, chunks={'time':1})\n",
    "        partitions.append(uds)\n",
    "    print(': ',end='')\n",
    "    print(f'{(dt.datetime.now()-dtstart).total_seconds():.2f} sec')\n",
    "    \n",
    "    print(f'>> xu.merge_partitions() with {len(file_nc_list)} partition(s): ',end='')\n",
    "    dtstart = dt.datetime.now()\n",
    "    ds_merged_xu = xu.merge_partitions(partitions)\n",
    "    print(f'{(dt.datetime.now()-dtstart).total_seconds():.2f} sec')\n"
   ]
  },
  {
   "cell_type": "code",
   "execution_count": null,
   "id": "eb572e30",
   "metadata": {},
   "outputs": [],
   "source": []
  }
 ],
 "metadata": {
  "kernelspec": {
   "display_name": "Python 3 (ipykernel)",
   "language": "python",
   "name": "python3"
  },
  "language_info": {
   "codemirror_mode": {
    "name": "ipython",
    "version": 3
   },
   "file_extension": ".py",
   "mimetype": "text/x-python",
   "name": "python",
   "nbconvert_exporter": "python",
   "pygments_lexer": "ipython3",
   "version": "3.8.13"
  }
 },
 "nbformat": 4,
 "nbformat_minor": 5
}
