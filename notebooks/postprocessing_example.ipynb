{
 "cells": [
  {
   "cell_type": "code",
   "execution_count": null,
   "id": "6609ed21",
   "metadata": {},
   "outputs": [],
   "source": [
    "import os\n",
    "os.chdir('..') #necessary to go one level up to the root directory to find dfm_tools in notebook/binder\n",
    "import xarray as xr\n",
    "import matplotlib.pyplot as plt\n",
    "import contextily as ctx\n",
    "import numpy as np\n",
    "import dfm_tools as dfmt\n"
   ]
  },
  {
   "cell_type": "code",
   "execution_count": null,
   "id": "af531b7b",
   "metadata": {},
   "outputs": [],
   "source": [
    "#set paths and parameters per model (change 'model' parameters to get different results/plots)\n",
    "model = 'grevelingen' #'curvedbend' 'grevelingen' 'westernscheldt'\n",
    "\n",
    "dir_opendap = 'http://opendap.deltares.nl/thredds/dodsC/opendap/deltares/Delft3D/netcdf_example_files'\n",
    "if model=='curvedbend':\n",
    "    file_nc_his = dir_opendap + '/DFM_curvedbend_3D/cb_3d_his.nc'\n",
    "    file_nc_map = [dir_opendap + '/DFM_curvedbend_3D/cb_3d_map.nc'] #list since opendap does not support glob\n",
    "    layer = 5\n",
    "    crs = None\n",
    "    line_array = np.array([[ 104.15421399, 2042.7077107 ],\n",
    "                           [2913.47878063, 2102.48057382]])\n",
    "elif model=='grevelingen': #multipart mapfile has to be list in case of opendap\n",
    "    file_nc_his = dir_opendap + '/DFM_grevelingen_3D/Grevelingen-FM_0000_his.nc'\n",
    "    file_nc_map = [dir_opendap + f'/DFM_grevelingen_3D/Grevelingen-FM_{i:04d}_map.nc' for i in range(8)]\n",
    "    layer = 34\n",
    "    crs = 'EPSG:28992'\n",
    "    line_array = np.array([[ 53181.96942503, 424270.83361629],\n",
    "                           [ 55160.15232593, 416913.77136685]])\n",
    "elif model=='westernscheldt':\n",
    "    file_nc_his = None\n",
    "    file_nc_map = [dir_opendap + '/westernscheldt_sph_map.nc'] #list since opendap does not support glob\n",
    "    layer = None\n",
    "    crs = 'EPSG:4326'\n",
    "    line_array = None\n",
    "else:\n",
    "    raise Exception(f'undefined model: {model}')\n"
   ]
  },
  {
   "cell_type": "code",
   "execution_count": null,
   "id": "f40f79a2",
   "metadata": {},
   "outputs": [],
   "source": [
    "#open hisfile with xarray and print netcdf structure\n",
    "if file_nc_his is not None:\n",
    "    data_xr_his = xr.open_mfdataset([file_nc_his], preprocess=dfmt.preprocess_hisnc)\n",
    "    print(data_xr_his)\n",
    "    stations_pd = data_xr_his['stations'].to_dataframe()\n",
    "    print('\\nStations in netcdf dataset:\\n',stations_pd[['station_x_coordinate','station_y_coordinate']])\n"
   ]
  },
  {
   "cell_type": "code",
   "execution_count": null,
   "id": "38e8c8ae",
   "metadata": {},
   "outputs": [],
   "source": [
    "#plot his data: waterlevel at stations\n",
    "if file_nc_his is not None:\n",
    "    fig, ax = plt.subplots(1,1,figsize=(10,5))\n",
    "    data_xr_his.waterlevel.plot.line(ax=ax, x='time')\n",
    "    ax.legend(data_xr_his.stations.to_series(),loc=1,fontsize=8) #optional, to change legend location\n",
    "    fig.tight_layout()\n"
   ]
  },
  {
   "cell_type": "code",
   "execution_count": null,
   "id": "6f85600c",
   "metadata": {},
   "outputs": [],
   "source": [
    "#plot his data: temperature zt at one station\n",
    "if file_nc_his is not None:\n",
    "    data_xr_selzt = data_xr_his.isel(stations=0).isel(time=slice(0,50))\n",
    "    fig, ax1 = plt.subplots(figsize=(12,6))\n",
    "    c = dfmt.plot_ztdata(data_xr_sel=data_xr_selzt, varname='salinity', ax=ax1, cmap='jet')\n",
    "    fig.colorbar(c,ax=ax1,label=f'salinity at {data_xr_selzt.stations.data}')\n",
    "    CS = dfmt.plot_ztdata(data_xr_sel=data_xr_selzt, varname='salinity', ax=ax1, only_contour=True, levels=6, colors='k', linewidths=0.8, linestyles='solid')\n",
    "    ax1.clabel(CS, fontsize=10)\n",
    "    fig.tight_layout()"
   ]
  },
  {
   "cell_type": "code",
   "execution_count": null,
   "id": "84c446c8",
   "metadata": {},
   "outputs": [],
   "source": [
    "#open+merge mapfile with xugrid(xarray) and print netcdf structure\n",
    "data_xr_mapmerged = dfmt.open_partitioned_dataset(file_nc_map)\n",
    "print(data_xr_mapmerged)"
   ]
  },
  {
   "cell_type": "code",
   "execution_count": null,
   "id": "a65e2d06",
   "metadata": {},
   "outputs": [],
   "source": [
    "#plot net/grid. use random variable and plot line to get grid\n",
    "fig, ax = plt.subplots(figsize=(10,4))\n",
    "pc = data_xr_mapmerged.ugrid.grid.plot(edgecolor='crimson', linewidth=0.5)\n",
    "if crs is None:\n",
    "    ax.set_aspect('equal')\n",
    "else:\n",
    "    ctx.add_basemap(ax=ax, source=ctx.providers.Esri.WorldImagery, crs=crs, attribution=False)\n",
    "if line_array is not None:\n",
    "    ax.plot(line_array[:,0],line_array[:,1],'b',linewidth=3)\n",
    "fig.tight_layout()\n"
   ]
  },
  {
   "cell_type": "code",
   "execution_count": null,
   "id": "df1e9d37",
   "metadata": {},
   "outputs": [],
   "source": [
    "#plot water level on map\n",
    "fig, ax = plt.subplots(figsize=(10,4))\n",
    "pc = data_xr_mapmerged['mesh2d_s1'].isel(time=3).ugrid.plot(edgecolor='face',cmap='jet')\n",
    "pc.set_clim(-0.5,2)\n",
    "if crs is None:\n",
    "    ax.set_aspect('equal')\n",
    "else:\n",
    "    ctx.add_basemap(ax=ax, source=ctx.providers.Esri.WorldImagery, crs=crs, attribution=False)\n",
    "fig.tight_layout()\n"
   ]
  },
  {
   "cell_type": "code",
   "execution_count": null,
   "id": "0794fba6",
   "metadata": {},
   "outputs": [],
   "source": [
    "#plot eastward velocities on map\n",
    "fig, ax = plt.subplots(figsize=(10,4))\n",
    "if layer is None:\n",
    "    pc = data_xr_mapmerged['mesh2d_ucx'].isel(time=3).ugrid.plot(edgecolor='face',cmap='jet')\n",
    "else:\n",
    "    pc = data_xr_mapmerged['mesh2d_ucx'].isel(time=3,nmesh2d_layer=layer).ugrid.plot(edgecolor='face',cmap='jet')\n",
    "if crs is None:\n",
    "    ax.set_aspect('equal')\n",
    "else:\n",
    "    ctx.add_basemap(ax=ax, source=ctx.providers.Esri.WorldImagery, crs=crs, attribution=False)\n",
    "fig.tight_layout()"
   ]
  },
  {
   "cell_type": "code",
   "execution_count": null,
   "id": "9638aa3b",
   "metadata": {},
   "outputs": [],
   "source": [
    "#plot slice/sideview trough 3D salinity mapdata\n",
    "if line_array is not None:\n",
    "    xr_crs_ugrid = dfmt.polyline_mapslice(data_xr_mapmerged, line_array, timestep=3)\n",
    "    fig, ax = plt.subplots()\n",
    "    xr_crs_ugrid['mesh2d_sa1'].ugrid.plot(cmap='jet')\n",
    "    fig.tight_layout()\n"
   ]
  },
  {
   "cell_type": "code",
   "execution_count": null,
   "id": "4d90e54b",
   "metadata": {},
   "outputs": [],
   "source": []
  }
 ],
 "metadata": {
  "kernelspec": {
   "display_name": "Python 3 (ipykernel)",
   "language": "python",
   "name": "python3"
  },
  "language_info": {
   "codemirror_mode": {
    "name": "ipython",
    "version": 3
   },
   "file_extension": ".py",
   "mimetype": "text/x-python",
   "name": "python",
   "nbconvert_exporter": "python",
   "pygments_lexer": "ipython3",
   "version": "3.8.13"
  }
 },
 "nbformat": 4,
 "nbformat_minor": 5
}
