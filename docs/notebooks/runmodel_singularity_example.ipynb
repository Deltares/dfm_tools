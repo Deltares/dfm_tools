{
 "cells": [
  {
   "cell_type": "code",
   "execution_count": 3,
   "id": "e02e4ff7",
   "metadata": {},
   "outputs": [],
   "source": [
    "import os\n"
   ]
  },
  {
   "cell_type": "code",
   "execution_count": 1,
   "id": "04aa1354",
   "metadata": {},
   "outputs": [
    {
     "name": "stdout",
     "output_type": "stream",
     "text": [
      "C:\\Users\\veenstra\\AppData\\Local\\dfm_tools\\dfm_tools\\Cache\\delft3dfm_container\n"
     ]
    }
   ],
   "source": [
    "# download singularity container\n",
    "from dfm_tools.data import fm_singularity_container\n",
    "dir_container = fm_singularity_container()\n",
    "print(dir_container)\n"
   ]
  },
  {
   "cell_type": "code",
   "execution_count": 5,
   "id": "638fcf4e",
   "metadata": {},
   "outputs": [
    {
     "name": "stdout",
     "output_type": "stream",
     "text": [
      "singularitydir=\"C:\\Users\\veenstra\\AppData\\Local\\dfm_tools\\dfm_tools\\Cache\\delft3dfm_container\"\n",
      "\n",
      "# DIMR input file; must already exist!\n",
      "dimrFile=dimr_config.xml\n",
      "\n",
      "# stop after an error occurred:\n",
      "set -e\n",
      "\n",
      "# Replace number of processes in DIMR file\n",
      "PROCESSSTR=\"$(seq -s \" \" 0 $((nPart-1)))\"\n",
      "sed -i \"s/\\(<process.*>\\)[^<>]*\\(<\\/process.*\\)/\\1$PROCESSSTR\\2/\" $dimrFile\n",
      "\n",
      "# Read MDU file from DIMR file\n",
      "mduFile=\"$(sed -n 's/\\r//; s/<inputFile>\\(.*\\).mdu<\\/inputFile>/\\1/p' $dimrFile)\".mdu\n",
      "\n",
      "# Sequential computation\n",
      "# \"-p\": See above. Arguments after \"run_dimr.sh\" are explained in run_dimr.sh\n",
      "$singularitydir/execute_singularity.sh -p 2 run_dimr.sh -m $dimrFile\n",
      "\n"
     ]
    },
    {
     "data": {
      "text/plain": [
       "1"
      ]
     },
     "execution_count": 5,
     "metadata": {},
     "output_type": "execute_result"
    }
   ],
   "source": [
    "#run model with singularity container (only works if singularity is installed on machine)\n",
    "# this is a test without MPI, including MPI makes it a bit more complex\n",
    "\n",
    "exec_command = rf\"\"\"singularitydir=\"{dir_container}\"\n",
    "\n",
    "# DIMR input file; must already exist!\n",
    "dimrFile=dimr_config.xml\n",
    "\n",
    "# stop after an error occurred:\n",
    "set -e\n",
    "\n",
    "# Replace number of processes in DIMR file\n",
    "PROCESSSTR=\"$(seq -s \" \" 0 $((nPart-1)))\"\n",
    "sed -i \"s/\\(<process.*>\\)[^<>]*\\(<\\/process.*\\)/\\1$PROCESSSTR\\2/\" $dimrFile\n",
    "\n",
    "# Read MDU file from DIMR file\n",
    "mduFile=\"$(sed -n 's/\\r//; s/<inputFile>\\(.*\\).mdu<\\/inputFile>/\\1/p' $dimrFile)\".mdu\n",
    "\n",
    "# Sequential computation\n",
    "# \"-p\": See above. Arguments after \"run_dimr.sh\" are explained in run_dimr.sh\n",
    "$singularitydir/execute_singularity.sh -p 2 run_dimr.sh -m $dimrFile\n",
    "\"\"\"\n",
    "\n",
    "#os.chdir(dir_output)\n",
    "print(exec_command)\n",
    "os.system(exec_command)"
   ]
  },
  {
   "cell_type": "code",
   "execution_count": null,
   "id": "219b38b7",
   "metadata": {},
   "outputs": [],
   "source": []
  }
 ],
 "metadata": {
  "kernelspec": {
   "display_name": "Python 3 (ipykernel)",
   "language": "python",
   "name": "python3"
  },
  "language_info": {
   "codemirror_mode": {
    "name": "ipython",
    "version": 3
   },
   "file_extension": ".py",
   "mimetype": "text/x-python",
   "name": "python",
   "nbconvert_exporter": "python",
   "pygments_lexer": "ipython3",
   "version": "3.9.16"
  }
 },
 "nbformat": 4,
 "nbformat_minor": 5
}
