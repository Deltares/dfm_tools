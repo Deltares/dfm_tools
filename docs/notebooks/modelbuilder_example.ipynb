{
 "cells": [
  {
   "cell_type": "markdown",
   "id": "f8d4a17e",
   "metadata": {},
   "source": [
    "## Modelbuilder\n",
    "This notebook presents the basic features of the modelbuilder proof of concept. It generates a D-Flow FM model from scratch with only a lat/lon box as input. Since this is a proof of concept, many functions/inputs will change in the future but this notebook will be updated accordingly.\n",
    "\n",
    "This modelbuilder combines many other Python packages. We use [MeshKernelPy](https://github.com/Deltares/MeshKernelPy) for grid generation, [HYDROLIB-core](https://github.com/Deltares/HYDROLIB-core) to write all D-Flow FM files (like *.mdu, *.ext, *.bc), [xarray](https://github.com/pydata/xarray) to process netcdf files and [xugrid](https://github.com/Deltares/xugrid) to process ugrid netcdf files. Everything is wrapped in [dfm_tools](https://github.com/Deltares/dfm_tools) which also provide additional features.\n",
    "\n",
    "A more advanced example of model building is available at [the dfm_tools Github](https://github.com/Deltares/dfm_tools/blob/main/tests/examples_workinprogress/workinprogress_modelbuilder.py).\n",
    "\n",
    "### Exercises\n",
    "Each block in this notebook has some exercises. It is recommended to first walk trough the entire notebook without doing the exercises to understand the modelbuilding process. If you want to discover more, you can use these exercises as a first step."
   ]
  },
  {
   "cell_type": "markdown",
   "id": "4c5ebf79-0eb6-4a17-9222-5df5c2b63786",
   "metadata": {},
   "source": [
    "## 1. Registering for data retrieval\n",
    "In this notebook we use publicly available data from Copernicus Programme of the European Union. To access this data you need to create accounts at [Copernicus Marine Service](https://data.marine.copernicus.eu/register) and the [Climate Data Store](https://cds.climate.copernicus.eu/user/register). Do not forget to accept the CDS license agreement. You will be promted for your CMEMS credentials and CDS apikey by this notebook automatically and they will be stored locally. If you want to avoid the prompt, set the environment variables COPERNICUS_MARINE_SERVICE_USERNAME, COPERNICUS_MARINE_SERVICE_PASSWORD and CDSAPI_KEY (format for the latter is `{uid}:{apikey}`)."
   ]
  },
  {
   "cell_type": "markdown",
   "id": "80b2bf65-c1de-4a6b-8a4f-d2543643f7cc",
   "metadata": {},
   "source": [
    "## 2. Imports and user variables\n",
    "We start by importing the libraries that are used in this notebook and setting some user input variables that for instance define the spatial and time extent of the resulting model.\n",
    "\n",
    "### Exercises\n",
    "- change/extend the model simulation period (`date_min` and `date_max` variables)\n",
    "- create a new `model_name` and corresponding domain (`lon_min`, `lon_max`, `lat_min`, `lat_max` variables). Use an area of approximately 1x1 degrees for a quick test.\n"
   ]
  },
  {
   "cell_type": "code",
   "execution_count": null,
   "id": "31527e43",
   "metadata": {},
   "outputs": [],
   "source": [
    "# import packages\n",
    "import os\n",
    "import matplotlib.pyplot as plt\n",
    "plt.close('all')\n",
    "import dfm_tools as dfmt\n",
    "import hydrolib.core.dflowfm as hcdfm\n",
    "import xarray as xr\n",
    "import pandas as pd\n",
    "import numpy as np\n",
    "import contextily as ctx\n"
   ]
  },
  {
   "cell_type": "code",
   "execution_count": null,
   "id": "2a269ce9",
   "metadata": {},
   "outputs": [],
   "source": [
    "# user input\n",
    "model_name = 'Vietnam'\n",
    "dir_output = os.path.abspath(f'./{model_name}_model')\n",
    "# path_style = 'windows' # windows / unix\n",
    "overwrite = False # used for downloading of forcing data. Always set to True when changing the domain\n",
    "is_geographic = True # spherical (True) or cartesian (False) coordinates\n",
    "crs = 'EPSG:4326' # coordinate reference system\n",
    "\n",
    "# domain and resolution\n",
    "if model_name=='Bonaire':\n",
    "    lon_min, lon_max, lat_min, lat_max = -68.55, -67.9, 11.8, 12.6\n",
    "elif model_name=='Vietnam':\n",
    "    lon_min, lon_max, lat_min, lat_max = 105.8, 106.85, 17.75, 18.5\n",
    "dxy = 0.05\n",
    "\n",
    "#dates as understood by pandas.period_range(). ERA5 has freq='M' (month) and CMEMS has freq='D' (day)\n",
    "date_min = '2022-11-01'\n",
    "date_max = '2022-11-03'\n",
    "ref_date = '2022-01-01'\n"
   ]
  },
  {
   "cell_type": "code",
   "execution_count": null,
   "id": "47f22ce4",
   "metadata": {},
   "outputs": [],
   "source": [
    "# make directories and list all files\n",
    "os.makedirs(dir_output, exist_ok=True)\n",
    "dir_output_data = os.path.join(dir_output, 'data')\n",
    "os.makedirs(dir_output_data, exist_ok=True)\n"
   ]
  },
  {
   "cell_type": "markdown",
   "id": "bb8b737e",
   "metadata": {},
   "source": [
    "## 3. Grid generation and refinement with meshkernelpy\n",
    "\n",
    "To build a model we first need to generate a grid. We do this with [MeshKernelPy](https://github.com/Deltares/MeshKernelPy), a Python wrapper for the [MeshKernel](https://github.com/Deltares/MeshKernel), which is the Deltares C++ library for creating and editing meshes. It supports 1D & 2D unstructured meshes as well as curvilinear meshes. We will create a 2D unstructured mesh (grid) in this example.\n",
    "\n",
    "We start by generating a basegrid for the spatial extent and generate a polygon for the seaward boundary. This is followed by refinement based on GEBCO bathymetry, cutting away the landward part of the grid. Lastly, we interpolate bathymetry to the grid and save the grid as a network file (_net.nc file). The seaward boundary is converted to a [HYDROLIB-core](https://github.com/Deltares/HYDROLIB-core) `dflowfm.PolyFile` (*.pli file). With these files, the first part of the D-Flow FM model is generated.\n",
    "\n",
    "More advanced examples of grid generation are available at [the MeshkernelPy Github](https://github.com/Deltares/MeshKernelPy/blob/main/docs/examples/06_mesh2d_refinement_gridded_samples_gebco.ipynb) and [the dfm_tools Github](https://github.com/Deltares/dfm_tools/blob/main/tests/examples_workinprogress/workinprogress_meshkernel_creategrid.py).\n",
    "\n",
    "### Exercises\n",
    "- apply more/less refinement to the grid (`min_edge_size` variable)\n",
    "- generate a `PolyFile` with more/less points (`res` variable in `dfmt.interpolate_bndpli()`)\n"
   ]
  },
  {
   "cell_type": "code",
   "execution_count": null,
   "id": "e8a581c5",
   "metadata": {},
   "outputs": [],
   "source": [
    "# generate spherical regular grid\n",
    "mk_object = dfmt.make_basegrid(lon_min, lon_max, lat_min, lat_max, dx=dxy, dy=dxy, is_geographic=is_geographic)\n",
    "\n",
    "# generate plifile from grid extent and coastlines\n",
    "bnd_gdf = dfmt.generate_bndpli_cutland(mk=mk_object, res='h', buffer=0.01)\n",
    "bnd_gdf['name'] = f'{model_name}_bnd'\n",
    "bnd_gdf_interp = dfmt.interpolate_bndpli(bnd_gdf, res=0.03)\n",
    "poly_file = os.path.join(dir_output, f'{model_name}.pli')\n",
    "pli_polyfile = dfmt.geodataframe_to_PolyFile(bnd_gdf_interp)\n",
    "pli_polyfile.save(poly_file)\n",
    "\n",
    "# plot basegrid and polyline\n",
    "fig, ax = plt.subplots()\n",
    "mk_object.mesh2d_get().plot_edges(ax,zorder=1)\n",
    "bnd_gdf_interp.plot(ax=ax, edgecolor='r')\n",
    "ctx.add_basemap(ax=ax, crs=crs, attribution=False)\n",
    "dfmt.plot_coastlines(ax=ax, crs=crs)\n"
   ]
  },
  {
   "cell_type": "code",
   "execution_count": null,
   "id": "4f3429ea",
   "metadata": {},
   "outputs": [],
   "source": [
    "# connect to a coarse version of the GEBCO_2022 dataset on OPeNDAP\n",
    "# alternatively download your own cutout from https://download.gebco.net (use a buffer of e.g. 1 degree)\n",
    "file_gebco = f'https://opendap.deltares.nl/thredds/dodsC/opendap/deltares/Delft3D/netcdf_example_files/GEBCO_2022/GEBCO_2022_coarsefac08.nc'\n",
    "data_bathy_sel = xr.open_dataset(file_gebco).sel(lon=slice(lon_min-1,lon_max+1),lat=slice(lat_min-1,lat_max+1))\n",
    "\n",
    "# refine grid\n",
    "min_edge_size = 300 # in meters\n",
    "dfmt.refine_basegrid(mk=mk_object, data_bathy_sel=data_bathy_sel, min_edge_size=min_edge_size)\n",
    "\n",
    "# plot\n",
    "fig, ax = plt.subplots()\n",
    "mk_object.mesh2d_get().plot_edges(ax,zorder=1)\n",
    "ctx.add_basemap(ax=ax, crs=crs, attribution=False)\n",
    "dfmt.plot_coastlines(ax=ax, crs=crs)\n"
   ]
  },
  {
   "cell_type": "code",
   "execution_count": null,
   "id": "50b21c40",
   "metadata": {},
   "outputs": [],
   "source": [
    "# remove land with GSHHS coastlines\n",
    "dfmt.meshkernel_delete_withcoastlines(mk=mk_object, res='h')\n",
    "\n",
    "# plot\n",
    "fig, ax = plt.subplots()\n",
    "mk_object.mesh2d_get().plot_edges(ax,zorder=1)\n",
    "ctx.add_basemap(ax=ax, crs=crs, attribution=False)\n",
    "dfmt.plot_coastlines(ax=ax, crs=crs)\n"
   ]
  },
  {
   "cell_type": "code",
   "execution_count": null,
   "id": "291abec0",
   "metadata": {},
   "outputs": [],
   "source": [
    "# convert to xugrid\n",
    "xu_grid_uds = dfmt.meshkernel_to_UgridDataset(mk=mk_object, crs=crs)\n",
    "\n",
    "# interpolate bathymetry onto the grid\n",
    "data_bathy_interp = data_bathy_sel.interp(lon=xu_grid_uds.obj.mesh2d_node_x, lat=xu_grid_uds.obj.mesh2d_node_y).reset_coords(['lat','lon'])\n",
    "xu_grid_uds['mesh2d_node_z'] = data_bathy_interp.elevation.clip(max=10)\n",
    "\n",
    "# plot bathymetry and grid\n",
    "fig, ax = plt.subplots(figsize=(8,4))\n",
    "xu_grid_uds.mesh2d_node_z.ugrid.plot(ax=ax,center=False)\n",
    "xu_grid_uds.grid.plot(ax=ax,linewidth=0.5,color='white',alpha=0.2)\n",
    "ctx.add_basemap(ax=ax, crs=crs, attribution=False)\n",
    "dfmt.plot_coastlines(ax=ax, crs=crs)\n",
    "\n",
    "# write xugrid grid to netcdf\n",
    "netfile = os.path.join(dir_output, f'{model_name}_net.nc')\n",
    "xu_grid_uds.ugrid.to_netcdf(netfile)\n"
   ]
  },
  {
   "cell_type": "markdown",
   "id": "9a42a849",
   "metadata": {},
   "source": [
    "## 4. Generate boundary conditions from tidal model and CMEMS (new *.ext file)\n",
    "To simulate something useful we need boundary conditions for the model. These boundary conditions are forced via the new *.ext file. We initialize a [HYDROLIB-core](https://github.com/Deltares/HYDROLIB-core) `dflowfm.ExtModel` instance and append boundaries to it.\n",
    "\n",
    "We start with the interpolation of tidal components from a global database. In this example we use TPXO8, but other sources are also available. If you are working outside of the Deltares network, only the `*_opendap` sources will be available. The components of the chosen tidal model are interpolated to the points of the `dflowfm.PolyFile` we generated in the previous step and converted to a [HYDROLIB-core](https://github.com/Deltares/HYDROLIB-core) `dflowfm.ForcingModel` (*.bc file). The resulting tidal boundary condition has a set of tidal components with amplitudes and phases for each boundary point.\n",
    "\n",
    "Besides tide or waterlevels, we can also add boundary conditions for flow velocities, salinity, temperature and water quality variables like NO3. In this example we download the data from the [Copernicus Marine Service](https://data.marine.copernicus.eu/register) and interpolate it to the points of the `dflowfm.PolyFile`. The resulting netcdf files are also converted to a `dflowfm.ForcingModel` (*.bc file). The resulting boundary conditions contain a timeseries with depth dimension for each boundary point.\n",
    "\n",
    "### Exercises\n",
    "- try a different tide model\n",
    "- add additional WAQ variables like NO3\n"
   ]
  },
  {
   "cell_type": "code",
   "execution_count": null,
   "id": "caf3ae68",
   "metadata": {},
   "outputs": [],
   "source": [
    "# generate new format external forcings file (.ext): initial and open boundary condition\n",
    "ext_file_new = os.path.join(dir_output, f'{model_name}_new.ext')\n",
    "ext_new = hcdfm.ExtModel()\n"
   ]
  },
  {
   "cell_type": "code",
   "execution_count": null,
   "id": "c096aba4",
   "metadata": {},
   "outputs": [],
   "source": [
    "# interpolate tidal components to boundary conditions file (.bc)\n",
    "tidemodel = 'tpxo80_opendap' # tidemodel: FES2014, FES2012, EOT20, GTSMv4.1, GTSMv4.1_opendap\n",
    "ForcingModel_object = dfmt.interpolate_tide_to_bc(tidemodel=tidemodel, file_pli=poly_file, component_list=None)\n",
    "file_bc_out = os.path.join(dir_output,f'tide_{model_name}_{tidemodel}.bc')\n",
    "ForcingModel_object.save(filepath=file_bc_out)\n",
    "boundary_object = hcdfm.Boundary(quantity='waterlevelbnd',\n",
    "                                 locationfile=poly_file,\n",
    "                                 forcingfile=ForcingModel_object)\n",
    "ext_new.boundary.append(boundary_object)\n"
   ]
  },
  {
   "cell_type": "code",
   "execution_count": null,
   "id": "edfc0c61",
   "metadata": {},
   "outputs": [],
   "source": [
    "# CMEMS - download spatial fields of salinity, temperature, currents and sea surface height\n",
    "# you can also add WAQ variables like 'no3' and 'phyc'\n",
    "# check dfmt.get_conversion_dict() for an overview of parameter/quantity names\n",
    "dir_output_data_cmems = os.path.join(dir_output_data, 'cmems')\n",
    "os.makedirs(dir_output_data_cmems, exist_ok=True)\n",
    "for varkey in ['so','thetao','uo','vo','zos']:\n",
    "    dfmt.download_CMEMS(varkey=varkey,\n",
    "                        longitude_min=lon_min, longitude_max=lon_max, latitude_min=lat_min, latitude_max=lat_max,\n",
    "                        date_min=date_min, date_max=date_max,\n",
    "                        dir_output=dir_output_data_cmems, file_prefix='cmems_', overwrite=overwrite)\n",
    "\n",
    "# CMEMS - boundary conditions file (.bc) and add to ext_bnd\n",
    "# you can also add WAQ variables like 'tracerbndNO3' and 'tracerbndPON1'\n",
    "# check dfmt.get_conversion_dict() for an overview of parameter/quantity names\n",
    "list_quantities = ['waterlevelbnd','salinitybnd','temperaturebnd','uxuyadvectionvelocitybnd']\n",
    "dir_pattern = os.path.join(dir_output_data_cmems,'cmems_{ncvarname}_*.nc')\n",
    "ext_new = dfmt.cmems_nc_to_bc(ext_bnd=ext_new,\n",
    "                              refdate_str=f'minutes since {ref_date} 00:00:00 +00:00',\n",
    "                              dir_output=dir_output,\n",
    "                              list_quantities=list_quantities,\n",
    "                              tstart=date_min,\n",
    "                              tstop=date_max, \n",
    "                              file_pli=poly_file,\n",
    "                              dir_pattern=dir_pattern)\n",
    "\n",
    "#save new ext file\n",
    "ext_new.save(filepath=ext_file_new) # ,path_style=path_style)\n"
   ]
  },
  {
   "cell_type": "code",
   "execution_count": null,
   "id": "e731288d",
   "metadata": {},
   "outputs": [],
   "source": [
    "# plot downloaded CMEMS data\n",
    "file_cmems = os.path.join(dir_output_data,'cmems','*.nc')\n",
    "ds_cmems = xr.open_mfdataset(file_cmems)\n",
    "ds_cmems\n",
    "\n",
    "# plot\n",
    "fig, (ax1,ax2) = plt.subplots(1, 2, figsize=(10,5))\n",
    "ds_cmems.so.isel(time=0, depth=0).plot(ax=ax1)\n",
    "dfmt.plot_coastlines(ax=ax1, crs=crs)\n",
    "ds_cmems.thetao.isel(time=0, depth=0).plot(ax=ax2)\n",
    "dfmt.plot_coastlines(ax=ax2, crs=crs)\n",
    "fig.tight_layout()\n"
   ]
  },
  {
   "cell_type": "code",
   "execution_count": null,
   "id": "281c44b0",
   "metadata": {},
   "outputs": [],
   "source": [
    "# plot interpolated CMEMS data (boundary conditions in .bc)\n",
    "file_bc_sal = os.path.join(dir_output, f'salinitybnd_{model_name}_CMEMS.bc')\n",
    "bc_obj_sal = hcdfm.ForcingModel(file_bc_sal)\n",
    "forcing_xr_sal = dfmt.forcinglike_to_Dataset(bc_obj_sal.forcing[0], convertnan=True)\n",
    "\n",
    "file_bc_uxuy = os.path.join(dir_output,f'uxuyadvectionvelocitybnd_{model_name}_CMEMS.bc')\n",
    "bc_obj_uxuy = hcdfm.ForcingModel(file_bc_uxuy)\n",
    "forcing_xr_uxuy = dfmt.forcinglike_to_Dataset(bc_obj_uxuy.forcing[0], convertnan=True)\n",
    "\n",
    "# plot\n",
    "fig, (ax1,ax2,ax3) = plt.subplots(3, 1, sharex=True, sharey=True, figsize=(10,8))\n",
    "forcing_xr_sal['salinitybnd'].T.plot(ax=ax1)\n",
    "forcing_xr_uxuy['ux'].T.plot(ax=ax2)\n",
    "forcing_xr_uxuy['uy'].T.plot(ax=ax3)\n",
    "ax1.set_ylim(xu_grid_uds.mesh2d_node_z.min(), None)"
   ]
  },
  {
   "cell_type": "markdown",
   "id": "f3f508fd",
   "metadata": {},
   "source": [
    "## 5. Generate CMEMS ini conditions and ERA5 meteo forcing (old *.ext file)\n",
    "We will supply more boundary conditions to the model via the old *.ext file. We initialize a [HYDROLIB-core](https://github.com/Deltares/HYDROLIB-core) `dflowfm.ExtOldModel` instance and append boundaries to it. These boundaries are [HYDROLIB-core](https://github.com/Deltares/HYDROLIB-core) `dflowfm.ExtOldForcing` instances.\n",
    "\n",
    "In order to avoid long spinup times we can use spatially varying initial conditions. We derive these again from the data downloaded from the [Copernicus Marine Service](https://data.marine.copernicus.eu/register). The netcdf files are subsetted in time and written to the netcdf format expected by D-Flow FM.\n",
    "\n",
    "Another important forcing is meteo. In this example ERA5 meteo data is retrieved from the Copernicus [Climate Data Store](https://cds.climate.copernicus.eu/user/register). The netcdf files are merged in time and written to the netcdf format expected by D-Flow FM.\n",
    "\n",
    "### Exercises\n",
    "- extend the amount of meteo parameters\n"
   ]
  },
  {
   "cell_type": "code",
   "execution_count": null,
   "id": "05ea6ee6",
   "metadata": {},
   "outputs": [],
   "source": [
    "# generate old format external forcings file (.ext): spatial data\n",
    "ext_file_old = os.path.join(dir_output, f'{model_name}_old.ext')\n",
    "ext_old = hcdfm.ExtOldModel()\n",
    "\n",
    "# CMEMS - initial conditions\n",
    "# salinity/temperature can only be added in case of 3D model and iniwithnudge\n",
    "ext_old = dfmt.cmems_nc_to_ini(ext_old=ext_old,\n",
    "                               dir_output=dir_output,\n",
    "                               list_quantities=['waterlevelbnd'], # list_quantities,\n",
    "                               tstart=date_min,\n",
    "                               dir_pattern=dir_pattern)\n",
    "\n",
    "# ERA5 - download spatial fields of air pressure, wind speeds and Charnock coefficient\n",
    "dir_output_data_era5 = os.path.join(dir_output_data, 'ERA5')\n",
    "os.makedirs(dir_output_data_era5, exist_ok=True)\n",
    "    \n",
    "varlist_list = [['msl','u10n','v10n','chnk']]\n",
    "\n",
    "for varlist in varlist_list:\n",
    "    for varkey in varlist:\n",
    "        dfmt.download_ERA5(varkey, \n",
    "                           longitude_min=lon_min, longitude_max=lon_max, latitude_min=lat_min, latitude_max=lat_max,\n",
    "                           date_min=date_min, date_max=date_max,\n",
    "                           dir_output=dir_output_data_era5, overwrite=overwrite)\n",
    "\n",
    "# ERA5 meteo - convert to netCDF for usage in Delft3D FM\n",
    "ext_old = dfmt.preprocess_merge_meteofiles_era5(ext_old=ext_old,\n",
    "                                                varkey_list=varlist_list,\n",
    "                                                dir_data=dir_output_data_era5,\n",
    "                                                dir_output=dir_output,\n",
    "                                                time_slice=slice(date_min, date_max))\n",
    "\n",
    "ext_old.save(filepath=ext_file_old) # , path_style=path_style)\n"
   ]
  },
  {
   "cell_type": "code",
   "execution_count": null,
   "id": "aa42e934",
   "metadata": {},
   "outputs": [],
   "source": [
    "# plot converted ERA5 data\n",
    "file_era5 = os.path.join(dir_output,'data','ERA5','*.nc')\n",
    "ds_era5 = xr.open_mfdataset(file_era5)\n",
    "ds_era5\n",
    "\n",
    "# plot\n",
    "fig, (ax1,ax2) = plt.subplots(1,2,figsize=(10,5))\n",
    "ds_era5.u10n.isel(time=0).plot(ax=ax1)\n",
    "dfmt.plot_coastlines(ax=ax1, crs=crs)\n",
    "ds_era5.v10n.isel(time=0).plot(ax=ax2)\n",
    "dfmt.plot_coastlines(ax=ax2, crs=crs)\n",
    "fig.tight_layout()\n"
   ]
  },
  {
   "cell_type": "markdown",
   "id": "81a65644",
   "metadata": {},
   "source": [
    "## 6. Generate obsfile\n",
    "The D-Flow FM model wil have mapoutput and hisoutput. In order for the hisoutput to not be empty, some dummy stations are generated at the locations random grid cells.\n",
    "\n",
    "### Exercises\n",
    "- the observation points are randomly generated, add obspoints near actual cities/harbours/islands instead (variable `obs_pd`)\n"
   ]
  },
  {
   "cell_type": "code",
   "execution_count": null,
   "id": "630f7aa2",
   "metadata": {},
   "outputs": [],
   "source": [
    "# generate obspoints on all grid faces\n",
    "xpts = xu_grid_uds.grid.face_x\n",
    "ypts = xu_grid_uds.grid.face_y\n",
    "npts = [f'x{x:.2f}_y{y:.2f}'.replace('.','p') for x,y in zip(xpts,ypts)]\n",
    "obs_pd = pd.DataFrame(dict(x=xpts,y=ypts,name=npts))\n",
    "\n",
    "# subselect n arbitary obspoints and plot\n",
    "n = 10\n",
    "ipts = np.random.randint(0, len(obs_pd), n)\n",
    "obs_pd = obs_pd.iloc[ipts]\n",
    "print(obs_pd)\n",
    "fig, ax = plt.subplots(figsize=(8,4))\n",
    "xu_grid_uds.grid.plot(ax=ax,linewidth=0.5,color='k',alpha=0.2)\n",
    "ax.plot(obs_pd['x'],obs_pd['y'],'rx')\n",
    "dfmt.plot_coastlines(ax=ax, crs=crs)\n",
    "\n",
    "# save obsfile\n",
    "file_obs = os.path.join(dir_output, f'{model_name}_obs.xyn')\n",
    "obs_pd.to_csv(file_obs, sep=' ', header=False, index=False, float_format='%.6f')\n"
   ]
  },
  {
   "cell_type": "markdown",
   "id": "0b238951",
   "metadata": {},
   "source": [
    "## 7. Generate mdu file\n",
    "In order for the model to run, we need a model definition file. In case of D-Flow FM this is a *.mdu file, represented by the [HYDROLIB-core](https://github.com/Deltares/HYDROLIB-core) `dflowfm.FMModel`. This is initialized and many of the files we generated above (network, extfiles, obsfile) are linked here. You can visualize the resulting model tree with `mdu.show_tree()`. We can also adjust any of the parameters in the *.mdu file by setting them here.\n",
    "\n",
    "### Exercises\n",
    "- convert this 2D model into a 3D model, for instance like in [workinprogress_modelbuilder.py](https://github.com/Deltares/dfm_tools/blob/main/tests/examples_workinprogress/workinprogress_modelbuilder.py).\n",
    "- enable the computation of salinity and temperature in the mdu (`salinity`=1 and `temperature`=5)\n",
    "- use the fourier smoothing time (`tlfSmo`) to make the model spinup less chaotic\n"
   ]
  },
  {
   "cell_type": "code",
   "execution_count": null,
   "id": "0f01a183",
   "metadata": {},
   "outputs": [],
   "source": [
    "# initialize mdu file and update settings\n",
    "mdu_file = os.path.join(dir_output, f'{model_name}.mdu')\n",
    "mdu = hcdfm.FMModel()\n",
    "\n",
    "# add the grid (_net.nc, network file)\n",
    "mdu.geometry.netfile = netfile\n",
    "\n",
    "# support for initial sal/tem fields via iniwithnudge, this requires 3D model\n",
    "# mdu.geometry.kmx = 5\n",
    "# mdu.physics.iniwithnudge = 2\n",
    "\n",
    "# add the external forcing files (.ext)\n",
    "mdu.external_forcing.extforcefile = ext_file_old\n",
    "mdu.external_forcing.extforcefilenew = ext_new\n",
    "\n",
    "# update time settings\n",
    "mdu.time.refdate = pd.Timestamp(ref_date).strftime('%Y%m%d')\n",
    "mdu.time.tunit = 'S'\n",
    "mdu.time.dtmax = 30\n",
    "mdu.time.startdatetime = pd.Timestamp(date_min).strftime('%Y%m%d%H%M%S')\n",
    "mdu.time.stopdatetime = pd.Timestamp(date_max).strftime('%Y%m%d%H%M%S')\n",
    "mdu.time.autotimestep = 3\n",
    "\n",
    "# update output settings\n",
    "mdu.output.obsfile = file_obs\n",
    "mdu.output.hisinterval = [60]\n",
    "mdu.output.mapinterval = [1800]#[86400]\n",
    "mdu.output.rstinterval = [0]\n",
    "mdu.output.statsinterval = [3600]\n",
    "\n",
    "# save .mdu file\n",
    "mdu.save(mdu_file) # ,path_style=path_style)\n",
    "\n",
    "# visualize the model tree\n",
    "mdu.show_tree()"
   ]
  },
  {
   "cell_type": "markdown",
   "id": "357d32a9",
   "metadata": {},
   "source": [
    "## 8. Generate DIMR and bat file\n",
    "In order to run the model via DIMR we need a `dimr_config.xml` file. If you are running this notebook on a Windows platform, a *.bat file will also be created with which you can run the model directly. In order for this to work you need to update the `dimrset_folder` to the path where the `x64` and or `lnx64` folder is located. Provide `None` if you have no D-Flow FM executable available on your system.\n"
   ]
  },
  {
   "cell_type": "code",
   "execution_count": null,
   "id": "402cdb08",
   "metadata": {},
   "outputs": [],
   "source": [
    "nproc = 1 # number of processes\n",
    "dimrset_folder = r\"c:\\Program Files\\Deltares\\Delft3D FM Suite 2023.03 HMWQ\\plugins\\DeltaShell.Dimr\\kernels\" #alternatively r\"p:\\d-hydro\\dimrset\\weekly\\2.25.17.78708\"\n",
    "dfmt.create_model_exec_files(file_mdu=mdu_file, nproc=nproc, dimrset_folder=dimrset_folder)\n"
   ]
  },
  {
   "cell_type": "markdown",
   "id": "cf77ed64",
   "metadata": {},
   "source": [
    "## 9. Check written files in model directory"
   ]
  },
  {
   "cell_type": "code",
   "execution_count": null,
   "id": "25bcaec2",
   "metadata": {},
   "outputs": [],
   "source": [
    "# list all files\n",
    "print(f\"your model is now ready in {dir_output}:\")\n",
    "os.listdir(dir_output)\n"
   ]
  },
  {
   "cell_type": "markdown",
   "id": "adafa434",
   "metadata": {},
   "source": [
    "## 10. Run the model and do the exercises\n",
    "### Running the model and post-processing the results\n",
    "- run the model with the `run_parallel.bat` file if you work on Windows.\n",
    "- the modeloutput can visualized with (the code in) the [postprocessing notebook](https://github.com/Deltares/dfm_tools/blob/main/docs/notebooks/postprocessing_example.ipynb).\n",
    "\n",
    "### Exercises\n",
    "- you can change the model input as suggested in the exercises above and rerun the model builder and the model.\n",
    "- It might be useful to check the [D-Flow FM manual](https://content.oss.deltares.nl/delft3d/D-Flow_FM_User_Manual.pdf) for background information.\n",
    "- You can also check the more advanced example in [workinprogress_modelbuilder.py](https://github.com/Deltares/dfm_tools/blob/main/tests/examples_workinprogress/workinprogress_modelbuilder.py) to get started.\n",
    "\n",
    "### Advanced exercises\n",
    "- add a observation cross-section near a harbour or river\n",
    "- add a river inflow as a boundary condition (.pli and .bc in new format .ext or .pli and .tim in old format .ext)\n"
   ]
  },
  {
   "cell_type": "markdown",
   "id": "6e68ca38-f908-4e66-b51d-60b66b12bac5",
   "metadata": {},
   "source": [
    "# "
   ]
  }
 ],
 "metadata": {
  "kernelspec": {
   "display_name": "Python 3 (ipykernel)",
   "language": "python",
   "name": "python3"
  },
  "language_info": {
   "codemirror_mode": {
    "name": "ipython",
    "version": 3
   },
   "file_extension": ".py",
   "mimetype": "text/x-python",
   "name": "python",
   "nbconvert_exporter": "python",
   "pygments_lexer": "ipython3",
   "version": "3.11.5"
  }
 },
 "nbformat": 4,
 "nbformat_minor": 5
}
