{
 "cells": [
  {
   "cell_type": "markdown",
   "id": "f8d4a17e",
   "metadata": {},
   "source": [
    "# Modelbuilder\n",
    "This notebook presents the basic features of the modelbuilder proof of concept. It generates a D-Flow FM model from scratch with only spatial and temporal extents as input. Since this is a proof of concept, many functions/inputs will change in the future and this notebook will be updated accordingly.\n",
    "\n",
    "This modelbuilder combines many other Python packages. We use [MeshKernelPy](https://github.com/Deltares/MeshKernelPy) for grid generation, [HYDROLIB-core](https://github.com/Deltares/HYDROLIB-core) to write all D-Flow FM files (like *.mdu, *.ext, *.bc), [xarray](https://github.com/pydata/xarray) to process netcdf files and [xugrid](https://github.com/Deltares/xugrid) to process ugrid netcdf files. Everything is wrapped in [dfm_tools](https://github.com/Deltares/dfm_tools) which also provide additional features.\n",
    "\n",
    "If you prefer to interact with a Python script instead, you can convert this notebook to *.py with `jupyter nbconvert --to script modelbuilder_example.ipynb`.\n",
    "\n",
    "#### Exercises\n",
    "Some of the blocks in in this notebook contain exercises. It is recommended to first walk trough the entire notebook without doing the exercises to understand the modelbuilding process. If you want to discover more, you can use these exercises as a first step."
   ]
  },
  {
   "cell_type": "markdown",
   "id": "4c5ebf79-0eb6-4a17-9222-5df5c2b63786",
   "metadata": {},
   "source": [
    "## 1. Registering for data retrieval\n",
    "In this notebook we use publicly available data from Copernicus Programme of the European Union. To access this data you need to create accounts at [Copernicus Marine Service](https://data.marine.copernicus.eu/register) and the [Climate Data Store](https://cds.climate.copernicus.eu/profile). Do not forget to accept the CDS license agreement. You will be promted for your CMEMS credentials and CDS apikey by this notebook automatically and they will be stored locally. If you want to avoid the prompt, set the environment variables COPERNICUSMARINE_SERVICE_USERNAME, COPERNICUSMARINE_SERVICE_PASSWORD and CDSAPI_KEY."
   ]
  },
  {
   "cell_type": "markdown",
   "id": "80b2bf65-c1de-4a6b-8a4f-d2543643f7cc",
   "metadata": {},
   "source": [
    "## 2. Imports and user variables\n",
    "We start by importing the libraries that are used in this notebook and setting some user input variables that for instance define the spatial and time extent of the resulting model.\n",
    "\n",
    "#### Exercises\n",
    "- change the model simulation period (`date_min` and `date_max` variables)\n",
    "- create a new `model_name` and corresponding domain (`lon_min`, `lon_max`, `lat_min`, `lat_max` variables). Use an area of approximately 1x1 degrees for a quick test.\n"
   ]
  },
  {
   "cell_type": "code",
   "execution_count": null,
   "id": "31527e43",
   "metadata": {},
   "outputs": [],
   "source": [
    "# import packages\n",
    "import os\n",
    "from pathlib import Path\n",
    "import matplotlib.pyplot as plt\n",
    "plt.close('all')\n",
    "import dfm_tools as dfmt\n",
    "import hydrolib.core.dflowfm as hcdfm\n",
    "import xarray as xr\n",
    "import pandas as pd\n",
    "import numpy as np\n",
    "import contextily as ctx\n"
   ]
  },
  {
   "cell_type": "code",
   "execution_count": null,
   "id": "2a269ce9",
   "metadata": {},
   "outputs": [],
   "source": [
    "# user input\n",
    "model_name = 'Vietnam' # the name cannot contain a space\n",
    "overwrite = False # overwrite the downloaded forcing data or not. Always set to True when changing the domain\n",
    "crs = 'EPSG:4326' # coordinate reference system, only EPSG 4326 (WGS84) is currently supported by the ERA5 and CMEMS download scripts.\n",
    "modeltype = \"2D\" # set to \"3D\" for a 3D model including salinity and temperature\n",
    "dir_output = os.path.abspath(f'./{model_name}_{modeltype}_model')\n",
    "# path_style = 'windows' # windows / unix\n",
    "\n",
    "# domain and resolution\n",
    "# the actual maximum extents can slightly vary: see dfmt.meshkernel_get_bbox() below\n",
    "if model_name=='Bonaire':\n",
    "    lon_min, lon_max, lat_min, lat_max = -68.55, -67.9, 11.8, 12.6\n",
    "elif model_name=='Vietnam':\n",
    "    lon_min, lon_max, lat_min, lat_max = 105.8, 106.85, 17.75, 18.5\n",
    "dxy = 0.05\n",
    "\n",
    "# dates as understood by pandas.period_range(). ERA5 has freq='M' (month) and CMEMS has freq='D' (day)\n",
    "date_min = '2022-11-01'\n",
    "date_max = '2022-11-03'\n",
    "ref_date = '2022-01-01'\n"
   ]
  },
  {
   "cell_type": "code",
   "execution_count": null,
   "id": "47f22ce4",
   "metadata": {},
   "outputs": [],
   "source": [
    "# make directories for the model and the downloaded data\n",
    "os.makedirs(dir_output, exist_ok=True)\n",
    "dir_output_data = os.path.join(dir_output, 'data')\n",
    "os.makedirs(dir_output_data, exist_ok=True)\n"
   ]
  },
  {
   "cell_type": "markdown",
   "id": "bb8b737e",
   "metadata": {},
   "source": [
    "## 3. Grid generation and refinement with meshkernelpy\n",
    "\n",
    "To build a model we first need to generate a grid. We do this with [MeshKernelPy](https://github.com/Deltares/MeshKernelPy), a Python wrapper for the [MeshKernel](https://github.com/Deltares/MeshKernel), which is the Deltares C++ library for creating and editing meshes. It supports 1D & 2D unstructured meshes as well as curvilinear meshes. We will create a 2D unstructured mesh (grid) in this example.\n",
    "\n",
    "We start by generating a basegrid for the spatial extent and generate a polygon for the seaward boundary. This is followed by refinement based on GEBCO bathymetry, cutting away the landward part of the grid. Lastly, we interpolate bathymetry to the grid and save the grid as a network file (\\*_net.nc file). The seaward boundary is derived from the grid extents and converted to a [HYDROLIB-core](https://github.com/Deltares/HYDROLIB-core) `dflowfm.PolyFile` (*.pli file). With these files, the first part of the D-Flow FM model is generated.\n",
    "\n",
    "More advanced examples of grid generation are available at [the MeshkernelPy Github](https://github.com/Deltares/MeshKernelPy/blob/main/docs/examples/06_mesh2d_refinement_gridded_samples_gebco.ipynb) and [the dfm_tools Github](https://github.com/Deltares/dfm_tools/blob/main/tests/examples_workinprogress/workinprogress_meshkernel_creategrid.py).\n",
    "\n",
    "#### Exercises\n",
    "- apply more/less refinement to the grid (`min_edge_size` variable)\n",
    "- generate a `PolyFile` with more/less points (`res` variable in `dfmt.interpolate_bndpli()`)\n"
   ]
  },
  {
   "cell_type": "markdown",
   "id": "31ed88ff-6797-4a32-8a37-46c74b140545",
   "metadata": {},
   "source": [
    "### Generate the base grid"
   ]
  },
  {
   "cell_type": "code",
   "execution_count": null,
   "id": "e8a581c5",
   "metadata": {},
   "outputs": [],
   "source": [
    "# generate spherical regular grid\n",
    "mk_object = dfmt.make_basegrid(lon_min=lon_min, lon_max=lon_max, lat_min=lat_min, lat_max=lat_max, dx=dxy, dy=dxy, crs=crs)\n",
    "\n",
    "# retrieve actual lat/lon bounds from grid, the lon_max and lat_max are likely larger than requested\n",
    "lon_min, lat_min, lon_max, lat_max = dfmt.meshkernel_get_bbox(mk_object)\n",
    "\n",
    "# plot basegrid and polyline\n",
    "fig, ax = plt.subplots()\n",
    "mk_object.mesh2d_get().plot_edges(ax, zorder=1)\n",
    "# ctx.add_basemap(ax=ax, crs=crs, attribution=False)\n",
    "dfmt.plot_coastlines(ax=ax, crs=crs)\n"
   ]
  },
  {
   "cell_type": "markdown",
   "id": "4a8e7922-fa3f-4d6c-b232-fc41fca3efa7",
   "metadata": {},
   "source": [
    "### Generate the boundary polyline"
   ]
  },
  {
   "cell_type": "code",
   "execution_count": null,
   "id": "cb694f5a-cf06-41b5-a7b1-b3f9aa697780",
   "metadata": {},
   "outputs": [],
   "source": [
    "# generate plifile from grid extent and coastlines\n",
    "bnd_gdf = dfmt.generate_bndpli_cutland(mk=mk_object, res='h', buffer=0.01)\n",
    "bnd_gdf_interp = dfmt.interpolate_bndpli(bnd_gdf, res=0.03)\n",
    "pli_polyfile = dfmt.geodataframe_to_PolyFile(bnd_gdf_interp, name=f'{model_name}_bnd')\n",
    "poly_file = os.path.join(dir_output, f'{model_name}.pli')\n",
    "pli_polyfile.save(poly_file)\n",
    "\n",
    "# plot basegrid and polyline\n",
    "fig, ax = plt.subplots()\n",
    "mk_object.mesh2d_get().plot_edges(ax, zorder=1, edgecolor='grey')\n",
    "bnd_gdf_interp.plot(ax=ax, edgecolor='r')\n",
    "# ctx.add_basemap(ax=ax, crs=crs, attribution=False)\n",
    "dfmt.plot_coastlines(ax=ax, crs=crs)\n"
   ]
  },
  {
   "cell_type": "markdown",
   "id": "7129f8ee-0037-4048-90b5-5e841ea53458",
   "metadata": {},
   "source": [
    "### Refine the grid based on bathymetry"
   ]
  },
  {
   "cell_type": "code",
   "execution_count": null,
   "id": "00da9a3e-8a5d-44ab-ada5-119dc77b2cf9",
   "metadata": {},
   "outputs": [],
   "source": [
    "# connect to a coarse version of the GEBCO_2022 dataset on OPeNDAP\n",
    "file_nc_bathy = \"https://opendap.deltares.nl/thredds/dodsC/opendap/deltares/Delft3D/netcdf_example_files/GEBCO_2022/GEBCO_2022_coarsefac08.nc\"\n",
    "data_bathy = xr.open_dataset(file_nc_bathy).elevation\n",
    "# alternatively download your own full resolution cutout from https://download.gebco.net (use a buffer of e.g. 1 degree), also available at\n",
    "# file_nc_bathy = r'p:\\metocean-data\\open\\GEBCO\\2022\\GEBCO_2022.nc'\n",
    "# data_bathy = xr.open_dataset(file_nc_bathy).elevation\n",
    "# alternatively you can connect to ETOPO 30s, for which there is also a 15s (15 arcseconds) resolution dataset available\n",
    "# file_nc_bathy = \"https://www.ngdc.noaa.gov/thredds/dodsC/global/ETOPO2022/30s/30s_surface_elev_netcdf/ETOPO_2022_v1_30s_N90W180_surface.nc\"\n",
    "# data_bathy = xr.open_dataset(file_nc_bathy).z\n",
    "\n",
    "# subset to area of interest\n",
    "data_bathy_sel = data_bathy.sel(lon=slice(lon_min-1, lon_max+1), lat=slice(lat_min-1, lat_max+1))\n",
    "\n",
    "# refine grid (Courant refinement)\n",
    "min_edge_size = 300 # in meters\n",
    "dfmt.refine_basegrid(mk=mk_object, data_bathy_sel=data_bathy_sel, min_edge_size=min_edge_size)\n",
    "\n",
    "# plot\n",
    "fig, ax = plt.subplots()\n",
    "mk_object.mesh2d_get().plot_edges(ax,zorder=1)\n",
    "# ctx.add_basemap(ax=ax, crs=crs, attribution=False)\n",
    "dfmt.plot_coastlines(ax=ax, crs=crs)\n"
   ]
  },
  {
   "cell_type": "markdown",
   "id": "4a61b928-ede8-45e4-af4f-6dac8798a6b4",
   "metadata": {},
   "source": [
    "### Remove landward part with GSHHS coastlines"
   ]
  },
  {
   "cell_type": "code",
   "execution_count": null,
   "id": "50b21c40",
   "metadata": {},
   "outputs": [],
   "source": [
    "# remove land with GSHHS coastlines\n",
    "dfmt.meshkernel_delete_withcoastlines(mk=mk_object, res='h')\n",
    "\n",
    "# derive illegalcells geodataframe\n",
    "illegalcells_gdf = dfmt.meshkernel_get_illegalcells(mk=mk_object)\n",
    "\n",
    "# plot\n",
    "fig, ax = plt.subplots()\n",
    "mk_object.mesh2d_get().plot_edges(ax,zorder=1)\n",
    "# ctx.add_basemap(ax=ax, crs=crs, attribution=False)\n",
    "dfmt.plot_coastlines(ax=ax, crs=crs)\n"
   ]
  },
  {
   "cell_type": "markdown",
   "id": "3c2f19d1-357a-4d6b-b56f-fc1b91a5fb95",
   "metadata": {},
   "source": [
    "### Interpolate bathymetry and save network\n",
    "This step saves the network including bathymetry as a \\*_net.nc file."
   ]
  },
  {
   "cell_type": "code",
   "execution_count": null,
   "id": "291abec0",
   "metadata": {},
   "outputs": [],
   "source": [
    "# convert to xugrid\n",
    "xu_grid_uds = dfmt.meshkernel_to_UgridDataset(mk=mk_object, crs=crs)\n",
    "\n",
    "# interpolate bathymetry onto the grid\n",
    "data_bathy_interp = data_bathy_sel.interp(lon=xu_grid_uds.obj.mesh2d_node_x, lat=xu_grid_uds.obj.mesh2d_node_y)\n",
    "xu_grid_uds['mesh2d_node_z'] = data_bathy_interp.clip(max=10)\n",
    "# avoid _FillValue=nan: https://github.com/Deltares/dfm_tools/issues/1124\n",
    "# obj needs to be accessed for this to work until fixing: https://github.com/Deltares/xugrid/issues/321\n",
    "xu_grid_uds.obj.mesh2d_node_z.encoding[\"_FillValue\"] = 1e20\n",
    "\n",
    "# plot bathymetry and grid\n",
    "fig, ax = plt.subplots(figsize=(8,4))\n",
    "xu_grid_uds.mesh2d_node_z.ugrid.plot(ax=ax,center=False)\n",
    "xu_grid_uds.grid.plot(ax=ax,linewidth=0.5,color='white',alpha=0.2)\n",
    "# ctx.add_basemap(ax=ax, crs=crs, attribution=False)\n",
    "dfmt.plot_coastlines(ax=ax, crs=crs)\n",
    "\n",
    "# write xugrid grid to netcdf\n",
    "netfile = os.path.join(dir_output, f'{model_name}_net.nc')\n",
    "xu_grid_uds.ugrid.to_netcdf(netfile)\n"
   ]
  },
  {
   "cell_type": "markdown",
   "id": "9a42a849",
   "metadata": {},
   "source": [
    "## 4. Generate boundary conditions\n",
    "To simulate something useful we need boundary conditions for the model. These boundary conditions are forced via the new *.ext file. We initialize a [HYDROLIB-core](https://github.com/Deltares/HYDROLIB-core) `dflowfm.ExtModel` instance and append boundaries to it.\n",
    "\n",
    "We start with the interpolation of tidal components from a global database. In this example we use TPXO8, but other sources are also available. If you are working outside of the Deltares network, only the `*_opendap` sources will be available. The components of the chosen tidal model are interpolated to the points of the `dflowfm.PolyFile` we generated in the previous step and converted to a [HYDROLIB-core](https://github.com/Deltares/HYDROLIB-core) `dflowfm.ForcingModel` (*.bc file). The resulting tidal boundary condition has a set of tidal components with amplitudes and phases for each boundary point.\n",
    "\n",
    "Besides tide or waterlevels, we can also add boundary conditions for flow velocities, salinity, temperature and water quality variables like NO3. In this example we download the data from the [Copernicus Marine Service](https://data.marine.copernicus.eu/register) and interpolate it to the points of the `dflowfm.PolyFile`. The resulting netcdf files are also converted to a `dflowfm.ForcingModel` (*.bc file). The resulting boundary conditions contain a timeseries with depth dimension for each boundary point.\n",
    "\n",
    "#### Exercises\n",
    "- try a different tide model\n",
    "- add additional WAQ variables like NO3\n"
   ]
  },
  {
   "cell_type": "markdown",
   "id": "bf9bcb22-cd51-40df-ab72-d6b4ba982b3e",
   "metadata": {},
   "source": [
    "### Initialize ExtModels (will be saved to *.ext files later)\n",
    "Boundary conditions can be supplied to the model via the new and old *.ext file. We initialize [HYDROLIB-core](https://github.com/Deltares/HYDROLIB-core) `dflowfm.ExtModel` and `dflowfm.ExtOldModel` instance and append boundaries to it. These boundaries are [HYDROLIB-core](https://github.com/Deltares/HYDROLIB-core) `dflowfm.ExtForcing` and `dflowfm.ExtOldForcing` instances."
   ]
  },
  {
   "cell_type": "code",
   "execution_count": null,
   "id": "caf3ae68",
   "metadata": {},
   "outputs": [],
   "source": [
    "# generate new format external forcings file (*.ext): initial and open boundary condition\n",
    "ext_file_new = os.path.join(dir_output, f'{model_name}_new.ext')\n",
    "ext_new = hcdfm.ExtModel()\n",
    "\n",
    "# generate old format external forcings file (*.ext): spatial data (will be moved to new ext file in 2025)\n",
    "ext_file_old = os.path.join(dir_output, f'{model_name}_old.ext')\n",
    "ext_old = hcdfm.ExtOldModel()\n"
   ]
  },
  {
   "cell_type": "markdown",
   "id": "a322759e-e133-474e-b4a8-ca9a189e5c2f",
   "metadata": {},
   "source": [
    "### Constant waterlevel offset (new *.ext file)\n",
    "A constant waterlevel offset can be used to correct for instance for sea level rise. This results in a \\*.bc file with a constant value for all polylines in the plifile."
   ]
  },
  {
   "cell_type": "code",
   "execution_count": null,
   "id": "6281e2a2-e3d5-4b34-902e-aa7ce94498ef",
   "metadata": {},
   "outputs": [],
   "source": [
    "ext_new = dfmt.constant_to_bc(ext_new=ext_new, file_pli=poly_file, constant=0.05)\n"
   ]
  },
  {
   "cell_type": "markdown",
   "id": "58f2fe29-c3c9-4a15-bcf7-229a8d4cf894",
   "metadata": {},
   "source": [
    "### Tidal boundary conditions (new *.ext file)\n",
    "Several tide models are available consisting of amplitudes and phases for several tidal components with global coverage. The 'opendap' sources are available for everyone, the others only within the Deltares network. This step generates a boundary conditions file (*.bc) containing amplitudes and phases for point along the model boundary."
   ]
  },
  {
   "cell_type": "code",
   "execution_count": null,
   "id": "c096aba4",
   "metadata": {},
   "outputs": [],
   "source": [
    "# interpolate tidal components to boundary conditions file (.bc)\n",
    "tidemodel = 'tpxo80_opendap' # tidemodel: FES2014, FES2012, EOT20, GTSMv4.1, GTSMv4.1_opendap, tpxo80_opendap\n",
    "dfmt.interpolate_tide_to_bc(ext_new=ext_new, tidemodel=tidemodel, file_pli=poly_file, component_list=None)\n"
   ]
  },
  {
   "cell_type": "markdown",
   "id": "1d09bb4d-aad5-4780-9553-f6537c2546ce",
   "metadata": {},
   "source": [
    "### CMEMS ocean model boundary conditions (new *.ext file)\n",
    "Download spatial fields of sea surface height, salinity, temperature and currents. Convert them to boundary conditions files (*.bc) and add these to the `ExtModel()` object.\n",
    "\n",
    "#### Exercises\n",
    "- add WAQ variables like 'no3' ('tracerbndNO3') and 'phyc' ('tracerbndPON1' and others). Check `dfmt.get_conversion_dict()` for an overview of parameter/quantity names."
   ]
  },
  {
   "cell_type": "code",
   "execution_count": null,
   "id": "edfc0c61",
   "metadata": {},
   "outputs": [],
   "source": [
    "# download CMEMS data\n",
    "dir_output_data_cmems = os.path.join(dir_output_data, 'cmems')\n",
    "os.makedirs(dir_output_data_cmems, exist_ok=True)\n",
    "for varkey in ['zos','so','thetao','uo','vo']:\n",
    "    dfmt.download_CMEMS(varkey=varkey,\n",
    "                        longitude_min=lon_min, longitude_max=lon_max, latitude_min=lat_min, latitude_max=lat_max,\n",
    "                        date_min=date_min, date_max=date_max,\n",
    "                        dir_output=dir_output_data_cmems, file_prefix='cmems_', overwrite=overwrite)\n",
    "\n",
    "# convert to bc and add to ext\n",
    "list_quantities = ['waterlevelbnd','salinitybnd','temperaturebnd','uxuyadvectionvelocitybnd']\n",
    "dir_pattern = os.path.join(dir_output_data_cmems,'cmems_{ncvarname}_*.nc')\n",
    "ext_new = dfmt.cmems_nc_to_bc(ext_new=ext_new,\n",
    "                              refdate_str=f'minutes since {ref_date} 00:00:00 +00:00',\n",
    "                              dir_output=dir_output,\n",
    "                              list_quantities=list_quantities,\n",
    "                              tstart=date_min,\n",
    "                              tstop=date_max, \n",
    "                              file_pli=poly_file,\n",
    "                              dir_pattern=dir_pattern)\n"
   ]
  },
  {
   "cell_type": "code",
   "execution_count": null,
   "id": "e731288d",
   "metadata": {},
   "outputs": [],
   "source": [
    "# plot downloaded CMEMS data\n",
    "file_cmems = os.path.join(dir_output_data,'cmems','*.nc')\n",
    "ds_cmems = xr.open_mfdataset(file_cmems)\n",
    "ds_cmems\n",
    "\n",
    "# plot\n",
    "fig, (ax1,ax2) = plt.subplots(1, 2, figsize=(10,4))\n",
    "ds_cmems.so.isel(time=0, depth=0).plot(ax=ax1)\n",
    "dfmt.plot_coastlines(ax=ax1, crs=crs)\n",
    "ds_cmems.thetao.isel(time=0, depth=0).plot(ax=ax2)\n",
    "dfmt.plot_coastlines(ax=ax2, crs=crs)\n",
    "fig.tight_layout()\n"
   ]
  },
  {
   "cell_type": "code",
   "execution_count": null,
   "id": "281c44b0",
   "metadata": {},
   "outputs": [],
   "source": [
    "# plot interpolated CMEMS data (boundary conditions in .bc)\n",
    "pli_basename = Path(poly_file).stem\n",
    "file_bc_sal = os.path.join(dir_output, f'salinitybnd_CMEMS_{pli_basename}.bc')\n",
    "bc_obj_sal = hcdfm.ForcingModel(file_bc_sal)\n",
    "forcing_xr_sal = dfmt.forcinglike_to_Dataset(bc_obj_sal.forcing[0], convertnan=True)\n",
    "\n",
    "file_bc_uxuy = os.path.join(dir_output,f'uxuyadvectionvelocitybnd_CMEMS_{pli_basename}.bc')\n",
    "bc_obj_uxuy = hcdfm.ForcingModel(file_bc_uxuy)\n",
    "forcing_xr_uxuy = dfmt.forcinglike_to_Dataset(bc_obj_uxuy.forcing[0], convertnan=True)\n",
    "\n",
    "# plot\n",
    "fig, (ax1,ax2,ax3) = plt.subplots(3, 1, sharex=True, sharey=True, figsize=(10,8))\n",
    "forcing_xr_sal['salinitybnd'].T.plot(ax=ax1)\n",
    "forcing_xr_uxuy['ux'].T.plot(ax=ax2)\n",
    "forcing_xr_uxuy['uy'].T.plot(ax=ax3)\n",
    "ax1.set_ylim(xu_grid_uds.mesh2d_node_z.min(), None)"
   ]
  },
  {
   "cell_type": "markdown",
   "id": "c80e901c-4e6f-4557-baa7-15cbc6b546f3",
   "metadata": {},
   "source": [
    "### Generate initial contitions from CMEMS ocean model data (old *.ext file)\n",
    "In order to decrease the necessary model spinup time we can use spatially varying initial conditions. We derive these again from the data downloaded from the [Copernicus Marine Service](https://data.marine.copernicus.eu/register). The netcdf files are subsetted in time and written to the netcdf format expected by D-Flow FM. This step writes *.nc files containing initial fields.\n",
    "\n",
    "Initial fields for salinity and temperature can only be added in case of 3D model and `mdu.physics.iniwithnudge=2`. Via this same function it is possible to add initial conditions for tracers, but not yet for the waterlevel and velocity field.\n",
    "\n",
    "#### Excercises\n",
    "- add initial condtions for WAQ parameters like 'tracerbndNO3' and 'tracerbndPON1'"
   ]
  },
  {
   "cell_type": "code",
   "execution_count": null,
   "id": "05ea6ee6",
   "metadata": {},
   "outputs": [],
   "source": [
    "# convert downloaded CMEMS data to initial fields\n",
    "if modeltype == \"3D\":\n",
    "    ext_old = dfmt.cmems_nc_to_ini(ext_old=ext_old,\n",
    "                                   dir_output=dir_output,\n",
    "                                   list_quantities=['salinitybnd','temperaturebnd'], # list_quantities,\n",
    "                                   tstart=date_min,\n",
    "                                   dir_pattern=dir_pattern)\n"
   ]
  },
  {
   "cell_type": "markdown",
   "id": "387f75d3-ac4d-49f1-9887-f35ccbe8a590",
   "metadata": {},
   "source": [
    "### Download and convert ERA meteo forcing (old *.ext file)\n",
    "Another important forcing is meteo. In this example ERA5 meteo data is retrieved from the Copernicus [Climate Data Store](https://cds.climate.copernicus.eu/user/register). The netcdf files are merged in time and written to the netcdf format expected by D-Flow FM. This step generates *.nc files containing the meteo data.\n",
    "\n",
    "#### Exercises\n",
    "- in case of a 3D model with salinity and temperature enabled, you could add more meteo parameters. In that case also enable the composit ocean model via `mdu.physics.temperature = 5`.\n"
   ]
  },
  {
   "cell_type": "code",
   "execution_count": null,
   "id": "4fc861b7-fd54-4ac4-b18e-6cd554bdebf3",
   "metadata": {},
   "outputs": [],
   "source": [
    "# ERA5 - download spatial fields of air pressure, wind speeds and Charnock coefficient\n",
    "dir_output_data_era5 = os.path.join(dir_output_data, 'ERA5')\n",
    "os.makedirs(dir_output_data_era5, exist_ok=True)\n",
    "varlist_list = [['msl','u10n','v10n','chnk']]\n",
    "# for 3D models a more extensive forcing can be considered\n",
    "# this includes dewpoint, airtemperature, cloudiness, solarradiation, longwaveradiation, evaporation, precipitation\n",
    "# if modeltype == \"3D\":\n",
    "#     varlist_list = [['msl','u10n','v10n','chnk'],['d2m','t2m','tcc'],['ssr','strd'],['mer','mtpr']]\n",
    "\n",
    "for varlist in varlist_list:\n",
    "    for varkey in varlist:\n",
    "        dfmt.download_ERA5(varkey, \n",
    "                           longitude_min=lon_min, longitude_max=lon_max, latitude_min=lat_min, latitude_max=lat_max,\n",
    "                           date_min=date_min, date_max=date_max,\n",
    "                           dir_output=dir_output_data_era5, overwrite=overwrite)\n",
    "\n",
    "# ERA5 meteo - convert to netCDF for usage in Delft3D FM\n",
    "ext_old = dfmt.preprocess_merge_meteofiles_era5(ext_old=ext_old,\n",
    "                                                varkey_list=varlist_list,\n",
    "                                                dir_data=dir_output_data_era5,\n",
    "                                                dir_output=dir_output,\n",
    "                                                time_slice=slice(date_min, date_max))\n"
   ]
  },
  {
   "cell_type": "code",
   "execution_count": null,
   "id": "aa42e934",
   "metadata": {},
   "outputs": [],
   "source": [
    "# plot converted ERA5 data\n",
    "file_era5 = os.path.join(dir_output,'era5*.nc')\n",
    "ds_era5 = xr.open_mfdataset(file_era5)\n",
    "ds_era5\n",
    "\n",
    "# plot\n",
    "fig, (ax1,ax2) = plt.subplots(1,2,figsize=(10,5))\n",
    "ds_era5.u10n.isel(time=0).plot(ax=ax1)\n",
    "dfmt.plot_coastlines(ax=ax1, crs=crs)\n",
    "ds_era5.v10n.isel(time=0).plot(ax=ax2)\n",
    "dfmt.plot_coastlines(ax=ax2, crs=crs)\n",
    "fig.tight_layout()\n"
   ]
  },
  {
   "cell_type": "markdown",
   "id": "1ea8f9b2-24ff-4ea0-a2f1-83aca3000516",
   "metadata": {},
   "source": [
    "### Save the ext files\n",
    "These are saved as *.ext files. They contain all the paths to the model forcing and have to be linked in the *.mdu file below."
   ]
  },
  {
   "cell_type": "code",
   "execution_count": null,
   "id": "fbf396bc-f37c-4a12-b446-da1113a5c43b",
   "metadata": {},
   "outputs": [],
   "source": [
    "# save new ext file\n",
    "ext_new.save(filepath=ext_file_new) # ,path_style=path_style)\n",
    "# save old ext file\n",
    "ext_old.save(filepath=ext_file_old) # , path_style=path_style)\n"
   ]
  },
  {
   "cell_type": "markdown",
   "id": "81a65644",
   "metadata": {},
   "source": [
    "## 6. Generate obsfile\n",
    "The D-Flow FM model wil have mapoutput and hisoutput. In order for the hisoutput to not be empty, some dummy stations are generated at the locations random grid cells. This generates the \\*_obs.xyn file containing all observation points in the model domain.\n",
    "\n",
    "#### Exercises\n",
    "- the observation points are randomly generated, add obspoints near actual cities/harbours/islands instead (variable `obs_pd`)\n"
   ]
  },
  {
   "cell_type": "code",
   "execution_count": null,
   "id": "630f7aa2",
   "metadata": {},
   "outputs": [],
   "source": [
    "# generate obspoints on all grid faces\n",
    "xpts = xu_grid_uds.grid.face_x\n",
    "ypts = xu_grid_uds.grid.face_y\n",
    "npts = [f'x{x:.2f}_y{y:.2f}'.replace('.','p') for x,y in zip(xpts,ypts)]\n",
    "obs_pd = pd.DataFrame(dict(x=xpts,y=ypts,name=npts))\n",
    "\n",
    "# subselect n arbitary obspoints and plot\n",
    "n = 10\n",
    "ipts = np.random.randint(0, len(obs_pd), n)\n",
    "obs_pd = obs_pd.iloc[ipts]\n",
    "print(obs_pd)\n",
    "fig, ax = plt.subplots(figsize=(8,4))\n",
    "xu_grid_uds.grid.plot(ax=ax,linewidth=0.5,color='k',alpha=0.2)\n",
    "ax.plot(obs_pd['x'],obs_pd['y'],'rx')\n",
    "dfmt.plot_coastlines(ax=ax, crs=crs)\n",
    "\n",
    "# save obsfile\n",
    "file_obs = os.path.join(dir_output, f'{model_name}_obs.xyn')\n",
    "obs_pd.to_csv(file_obs, sep=' ', header=False, index=False, float_format='%.6f')\n"
   ]
  },
  {
   "cell_type": "markdown",
   "id": "0b238951",
   "metadata": {},
   "source": [
    "## 7. Generate mdu file\n",
    "In order for the model to run, we need a model definition file. In case of D-Flow FM this is a *.mdu file, represented by the [HYDROLIB-core](https://github.com/Deltares/HYDROLIB-core) `dflowfm.FMModel`. This is initialized and many of the files we generated above (network, extfiles, obsfile) are linked here. You can visualize the resulting model tree with `mdu.show_tree()`. We can also adjust any of the model parameters by setting them below. At the end of this code block the model settings are saved in the *.mdu file.\n",
    "\n",
    "#### Exercises\n",
    "- convert this 2D model into a 3D model with the `modeltype` variable all the way above\n",
    "- enable the computation of salinity and temperature in the mdu (`salinity`=1 and `temperature`=1)\n",
    "- enable the composite ocean model (`temperature`=5), this requires additional meteo forcing to be activated above\n",
    "- use the fourier smoothing time (`tlfSmo`) to make the model spinup less chaotic\n"
   ]
  },
  {
   "cell_type": "code",
   "execution_count": null,
   "id": "0f01a183",
   "metadata": {},
   "outputs": [],
   "source": [
    "# initialize mdu file and update settings\n",
    "# all keywords are documented in the Delft3D FM user manual\n",
    "# additional 2D/3D settings discussed in https://github.com/Deltares/dfm_tools/issues/951\n",
    "mdu_file = os.path.join(dir_output, f'{model_name}.mdu')\n",
    "mdu = hcdfm.FMModel()\n",
    "\n",
    "# add the grid (_net.nc, network file)\n",
    "mdu.geometry.netfile = netfile\n",
    "mdu.geometry.openboundarytolerance = 0.1\n",
    "mdu.geometry.bedlevuni = 5 # default of -5 may cause instabilities at coastline\n",
    "mdu.geometry.dxwuimin2d = 0.1 # improved stability in triangular network cells\n",
    "# create and add drypointsfile if there are any cells generated that will result in high orthogonality\n",
    "if len(illegalcells_gdf) > 0:\n",
    "    illegalcells_polyfile = dfmt.geodataframe_to_PolyFile(illegalcells_gdf)\n",
    "    illegalcells_file = os.path.join(dir_output, \"illegalcells.pol\")\n",
    "    illegalcells_polyfile.save(illegalcells_file)\n",
    "    mdu.geometry.drypointsfile = [illegalcells_polyfile]\n",
    "\n",
    "# update numerics settings\n",
    "mdu.numerics.izbndpos = 1 # boundary points are on network boundary\n",
    "mdu.numerics.mintimestepbreak = 0.1 # causes instable model to crash\n",
    "mdu.numerics.keepstbndonoutflow = 1 # s/t on outflow boundaries, should be new default\n",
    "mdu.numerics.barocponbnd = 1 # enable baroclinic pressure gradient on open boundaries, should be new default\n",
    "mdu.numerics.vertadvtypsal = 4 # should be new default (is currently 6)\n",
    "mdu.numerics.vertadvtyptem = 4 # should be new default (is currently 6)\n",
    "\n",
    "# update physics settings\n",
    "mdu.physics.rhomean = 1023. # for coastal models\n",
    "\n",
    "# update wind settings\n",
    "mdu.wind.icdtyp = 4 # Charnock in case of ERA5\n",
    "mdu.wind.cdbreakpoints = [0.025] # important if icdtyp=4, but 0.018 or 0.041 might be better. Value is overwritten by spacevarying charnock from ERA5.\n",
    "mdu.wind.pavbnd = 101330 # for inverse barometer correction, important in case of CMEMS boundary conditions\n",
    "\n",
    "# update time settings\n",
    "mdu.time.refdate = pd.Timestamp(ref_date).strftime('%Y%m%d')\n",
    "mdu.time.tunit = 'S'\n",
    "mdu.time.dtmax = 30\n",
    "mdu.time.startdatetime = pd.Timestamp(date_min).strftime('%Y%m%d%H%M%S')\n",
    "mdu.time.stopdatetime = pd.Timestamp(date_max).strftime('%Y%m%d%H%M%S')\n",
    "\n",
    "# add the external forcing files (.ext)\n",
    "mdu.external_forcing.extforcefile = ext_file_old\n",
    "# use extobject instead of extpath until fix of https://github.com/Deltares/HYDROLIB-core/issues/516\n",
    "mdu.external_forcing.extforcefilenew = ext_new\n",
    "\n",
    "# update output settings (many additional settings can decrease file size significantly)\n",
    "mdu.output.obsfile = [file_obs]\n",
    "mdu.output.hisinterval = [600] # 10 minutes\n",
    "mdu.output.mapinterval = [1800] # 30 minutes\n",
    "mdu.output.rstinterval = [0] # disable restart netcdf output\n",
    "mdu.output.statsinterval = [3600] # regular progress statistics in the dia file\n",
    "\n",
    "if modeltype == \"3D\":\n",
    "    mdu.geometry.layertype = 1 # sigma-layers (default value)\n",
    "    mdu.geometry.kmx = 10 # number of layers\n",
    "        \n",
    "    mdu.physics.iniwithnudge = 2 # support for initial sal/tem fields via iniwithnudge (requires a 3D model)\n",
    "    mdu.physics.salinity = 1 # enable salinity\n",
    "    mdu.physics.temperature = 5 # composite ocean model. This is automatically set to 1 if additional ERA5 variables are not provided.\n",
    "    mdu.physics.initialsalinity = 30 # for coastal models (default is 0)\n",
    "    mdu.physics.heat_eachstep = 1 # compute heatflux model on each timestep\n",
    "    mdu.physics.rhoairrhowater = 1 # better wind/water interaction\n",
    "\n",
    "# save .mdu file\n",
    "mdu.save(mdu_file) # ,path_style=path_style)\n",
    "\n",
    "# make all paths relative (might be properly implemented in https://github.com/Deltares/HYDROLIB-core/issues/532)\n",
    "# currently only works with path_style='windows' (or actually: same OS as IDE)\n",
    "dfmt.make_paths_relative(mdu_file)"
   ]
  },
  {
   "cell_type": "markdown",
   "id": "357d32a9",
   "metadata": {},
   "source": [
    "## 8. Generate DIMR and bat file\n",
    "In order to run the model via DIMR we need a `dimr_config.xml` file. If you are running this notebook on a Windows platform, a *.bat file will also be created with which you can run the model directly. In order for this to work you need to update the `dimrset_folder` to the path where the `x64` and or `lnx64` folder is located. Provide `None` if you have no D-Flow FM executable available on your system. This step generates a dimr_config.xml file and optionally also a *.bat file.\n"
   ]
  },
  {
   "cell_type": "code",
   "execution_count": null,
   "id": "402cdb08",
   "metadata": {},
   "outputs": [],
   "source": [
    "nproc = 1 # number of processes\n",
    "dimrset_folder = None # alternatively r\"c:\\Program Files\\Deltares\\Delft3D FM Suite 2024.03 HMWQ\\plugins\\DeltaShell.Dimr\\kernels\" #alternatively r\"p:\\d-hydro\\dimrset\\weekly\\2.28.04\"\n",
    "dfmt.create_model_exec_files(file_mdu=mdu_file, nproc=nproc, dimrset_folder=dimrset_folder)\n"
   ]
  },
  {
   "cell_type": "markdown",
   "id": "cf77ed64",
   "metadata": {},
   "source": [
    "## 9. Visualize model tree"
   ]
  },
  {
   "cell_type": "code",
   "execution_count": null,
   "id": "25bcaec2",
   "metadata": {},
   "outputs": [],
   "source": [
    "# visualize the model tree, show_tree is available for all HYDROLIB-core model components\n",
    "mdu_obj = hcdfm.FMModel(mdu_file)\n",
    "mdu_obj.show_tree()\n"
   ]
  },
  {
   "cell_type": "markdown",
   "id": "adafa434",
   "metadata": {},
   "source": [
    "## 10. Run the model and do the exercises\n",
    "#### Running the model and post-processing the results\n",
    "- run the model with the `run_parallel.bat` file if you work on Windows.\n",
    "- the modeloutput can visualized with (the code in) the [postprocessing notebook](https://github.com/Deltares/dfm_tools/blob/main/docs/notebooks/postprocessing_example.ipynb).\n",
    "\n",
    "#### Exercises\n",
    "- you can change the model input as suggested in the exercises above and rerun the model builder and the model.\n",
    "- read the [D-Flow FM manual](https://content.oss.deltares.nl/delft3d/D-Flow_FM_User_Manual.pdf) for background information.\n",
    "\n",
    "#### Advanced exercises\n",
    "- add a observation cross-section near a harbour or river\n",
    "- add a river inflow as a boundary condition (*.pli and *.bc in new format *.ext or *.pli and *.tim in old format *.ext)\n"
   ]
  },
  {
   "cell_type": "markdown",
   "id": "6e68ca38-f908-4e66-b51d-60b66b12bac5",
   "metadata": {},
   "source": [
    "# "
   ]
  }
 ],
 "metadata": {
  "kernelspec": {
   "display_name": "Python 3 (ipykernel)",
   "language": "python",
   "name": "python3"
  },
  "language_info": {
   "codemirror_mode": {
    "name": "ipython",
    "version": 3
   },
   "file_extension": ".py",
   "mimetype": "text/x-python",
   "name": "python",
   "nbconvert_exporter": "python",
   "pygments_lexer": "ipython3",
   "version": "3.12.8"
  }
 },
 "nbformat": 4,
 "nbformat_minor": 5
}
