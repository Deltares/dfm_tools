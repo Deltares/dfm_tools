{
 "cells": [
  {
   "cell_type": "markdown",
   "id": "f8d4a17e",
   "metadata": {},
   "source": [
    "## Modelbuilder\n",
    "This notebook presents the basic features of the modelbuilder proof of concept. It generates a D-Flow Flexible Mesh model from scratch with only a lat/lon box as input. Since this is a proof of concept, many functions/inputs will change in the future but this notebook will be updated accordingly.\n",
    "\n",
    "A more advanced example of model building is available at: \n",
    "https://github.com/Deltares/dfm_tools/blob/main/tests/examples_workinprogress/workinprogress_modelbuilder.py\n"
   ]
  },
  {
   "cell_type": "code",
   "execution_count": null,
   "id": "31527e43",
   "metadata": {},
   "outputs": [],
   "source": [
    "# import packages\n",
    "import os\n",
    "import matplotlib.pyplot as plt\n",
    "plt.close('all')\n",
    "import dfm_tools as dfmt\n",
    "import hydrolib.core.dflowfm as hcdfm\n",
    "import xarray as xr\n",
    "import pandas as pd\n",
    "import numpy as np\n",
    "import contextily as ctx\n"
   ]
  },
  {
   "cell_type": "code",
   "execution_count": null,
   "id": "2a269ce9",
   "metadata": {},
   "outputs": [],
   "source": [
    "# user input\n",
    "model_name = 'Vietnam'\n",
    "dir_output = os.path.abspath(f'./{model_name}_model')\n",
    "# path_style = 'windows' # windows / unix\n",
    "overwrite = True # used for downloading of forcing data. Always set to True when changing the domain\n",
    "is_geographic = True # spherical (True) or cartesian (False) coordinates\n",
    "crs = 'EPSG:4326' # coordinate reference system\n",
    "\n",
    "# domain and resolution\n",
    "if model_name=='Bonaire':\n",
    "    lon_min, lon_max, lat_min, lat_max = -68.55, -67.9, 11.8, 12.6\n",
    "elif model_name=='Vietnam':\n",
    "    lon_min, lon_max, lat_min, lat_max = 105.8, 106.85, 17.75, 18.5\n",
    "dxy = 0.05\n",
    "buffer = 0.01 # old Vietnam buffers: 0.06 for CMEMS, 0.12 for EOT20, 0.17 for tpxo80\n",
    "\n",
    "#dates as understood by pandas.period_range(). ERA5 has freq='M' (month) and CMEMS has freq='D' (day)\n",
    "date_min = '2022-11-01'\n",
    "date_max = '2022-11-03'\n",
    "ref_date = '2022-01-01'\n"
   ]
  },
  {
   "cell_type": "code",
   "execution_count": null,
   "id": "47f22ce4",
   "metadata": {},
   "outputs": [],
   "source": [
    "# make directories and list all files\n",
    "os.makedirs(dir_output, exist_ok=True)\n",
    "dir_output_data = os.path.join(dir_output, 'data')\n",
    "os.makedirs(dir_output_data, exist_ok=True)\n",
    "os.listdir(dir_output)"
   ]
  },
  {
   "cell_type": "markdown",
   "id": "bb8b737e",
   "metadata": {},
   "source": [
    "## Grid generation and refinement with meshkernelpy\n",
    "\n",
    "Another notebook with more grid generation details exposed (at the MeshkernelPy Github): https://github.com/Deltares/MeshKernelPy/blob/main/docs/examples/06_mesh2d_refinement_gridded_samples_gebco.ipynb\n",
    "\n",
    "Another more advanced example of grid generation is available at: \n",
    "https://github.com/Deltares/dfm_tools/blob/main/tests/examples_workinprogress/workinprogress_meshkernel_creategrid.py\n"
   ]
  },
  {
   "cell_type": "code",
   "execution_count": null,
   "id": "e8a581c5",
   "metadata": {},
   "outputs": [],
   "source": [
    "# generate spherical regular grid\n",
    "mk_object = dfmt.make_basegrid(lon_min, lon_max, lat_min, lat_max, dx=dxy, dy=dxy, is_geographic=is_geographic)\n",
    "\n",
    "# generate plifile from grid extent and coastlines\n",
    "bnd_gdf = dfmt.generate_bndpli_cutland(mk=mk_object, res='h', buffer=buffer)\n",
    "bnd_gdf['name'] = f'{model_name}_bnd'\n",
    "bnd_gdf_interp = dfmt.interpolate_bndpli(bnd_gdf,res=0.03)\n",
    "poly_file = os.path.join(dir_output, f'{model_name}.pli')\n",
    "pli_polyfile = dfmt.geodataframe_to_PolyFile(bnd_gdf_interp)\n",
    "pli_polyfile.save(poly_file)\n",
    "\n",
    "# plot basegrid and polyline\n",
    "fig, ax = plt.subplots()\n",
    "mk_object.mesh2d_get().plot_edges(ax,zorder=1)\n",
    "bnd_gdf_interp.plot(ax=ax, edgecolor='r')\n",
    "ctx.add_basemap(ax=ax, crs=crs, attribution=False)\n",
    "dfmt.plot_coastlines(ax=ax, crs=crs)\n"
   ]
  },
  {
   "cell_type": "code",
   "execution_count": null,
   "id": "4f3429ea",
   "metadata": {},
   "outputs": [],
   "source": [
    "# connect to a coarse version of the GEBCO_2022 dataset on OPeNDAP\n",
    "# alternatively download your own cutout from https://download.gebco.net (use a buffer of e.g. 1 degree)\n",
    "file_gebco = f'https://opendap.deltares.nl/thredds/dodsC/opendap/deltares/Delft3D/netcdf_example_files/GEBCO_2022/GEBCO_2022_coarsefac08.nc'\n",
    "data_bathy_sel = xr.open_dataset(file_gebco).sel(lon=slice(lon_min-1,lon_max+1),lat=slice(lat_min-1,lat_max+1))\n",
    "\n",
    "# refine grid\n",
    "min_edge_size = 300 # in meters\n",
    "dfmt.refine_basegrid(mk=mk_object, data_bathy_sel=data_bathy_sel, min_edge_size=min_edge_size)\n",
    "\n",
    "# plot\n",
    "fig, ax = plt.subplots()\n",
    "mk_object.mesh2d_get().plot_edges(ax,zorder=1)\n",
    "ctx.add_basemap(ax=ax, crs=crs, attribution=False)\n",
    "dfmt.plot_coastlines(ax=ax, crs=crs)\n"
   ]
  },
  {
   "cell_type": "code",
   "execution_count": null,
   "id": "50b21c40",
   "metadata": {},
   "outputs": [],
   "source": [
    "# remove land with GSHHS coastlines\n",
    "dfmt.meshkernel_delete_withcoastlines(mk=mk_object, res='h')\n",
    "\n",
    "# plot\n",
    "fig, ax = plt.subplots()\n",
    "mk_object.mesh2d_get().plot_edges(ax,zorder=1)\n",
    "ctx.add_basemap(ax=ax, crs=crs, attribution=False)\n",
    "dfmt.plot_coastlines(ax=ax, crs=crs)\n"
   ]
  },
  {
   "cell_type": "code",
   "execution_count": null,
   "id": "291abec0",
   "metadata": {},
   "outputs": [],
   "source": [
    "# convert to xugrid\n",
    "xu_grid_uds = dfmt.meshkernel_to_UgridDataset(mk=mk_object, crs=crs)\n",
    "\n",
    "# interpolate bathymetry onto the grid\n",
    "data_bathy_interp = data_bathy_sel.interp(lon=xu_grid_uds.obj.mesh2d_node_x, lat=xu_grid_uds.obj.mesh2d_node_y).reset_coords(['lat','lon'])\n",
    "xu_grid_uds['mesh2d_node_z'] = data_bathy_interp.elevation.clip(max=10)\n",
    "\n",
    "# plot bathymetry and grid\n",
    "fig, ax = plt.subplots(figsize=(8,4))\n",
    "xu_grid_uds.mesh2d_node_z.ugrid.plot(ax=ax,center=False)\n",
    "xu_grid_uds.grid.plot(ax=ax,linewidth=0.5,color='white',alpha=0.2)\n",
    "ctx.add_basemap(ax=ax, crs=crs, attribution=False)\n",
    "dfmt.plot_coastlines(ax=ax, crs=crs)\n",
    "\n",
    "# write xugrid grid to netcdf\n",
    "netfile = os.path.join(dir_output, f'{model_name}_net.nc')\n",
    "xu_grid_uds.ugrid.to_netcdf(netfile)\n"
   ]
  },
  {
   "cell_type": "markdown",
   "id": "9a42a849",
   "metadata": {},
   "source": [
    "## Generate boundary conditions from tidal model and CMEMS (new format .ext)"
   ]
  },
  {
   "cell_type": "code",
   "execution_count": null,
   "id": "caf3ae68",
   "metadata": {},
   "outputs": [],
   "source": [
    "# generate new format external forcings file (.ext): initial and open boundary condition\n",
    "ext_file_new = os.path.join(dir_output, f'{model_name}_new.ext')\n",
    "ext_new = hcdfm.ExtModel()\n"
   ]
  },
  {
   "cell_type": "code",
   "execution_count": null,
   "id": "c096aba4",
   "metadata": {},
   "outputs": [],
   "source": [
    "# interpolate tidal components to boundary conditions file (.bc)\n",
    "tidemodel = 'tpxo80_opendap' # tidemodel: FES2014, FES2012, EOT20, GTSMv4.1, GTSMv4.1_opendap\n",
    "ForcingModel_object = dfmt.interpolate_tide_to_bc(tidemodel=tidemodel, file_pli=poly_file, component_list=None)\n",
    "file_bc_out = os.path.join(dir_output,f'tide_{model_name}_{tidemodel}.bc')\n",
    "ForcingModel_object.save(filepath=file_bc_out)\n",
    "boundary_object = hcdfm.Boundary(quantity='waterlevelbnd',\n",
    "                                 locationfile=poly_file,\n",
    "                                 forcingfile=ForcingModel_object)\n",
    "ext_new.boundary.append(boundary_object)\n"
   ]
  },
  {
   "cell_type": "code",
   "execution_count": null,
   "id": "edfc0c61",
   "metadata": {},
   "outputs": [],
   "source": [
    "# CMEMS - download spatial fields of salinity, temperature, currents and sea surface height\n",
    "dir_output_data_cmems = os.path.join(dir_output_data, 'cmems')\n",
    "os.makedirs(dir_output_data_cmems, exist_ok=True)\n",
    "for varkey in ['so','thetao','uo','vo','zos']:\n",
    "    dfmt.download_CMEMS(varkey=varkey,\n",
    "                        longitude_min=lon_min, longitude_max=lon_max, latitude_min=lat_min, latitude_max=lat_max,\n",
    "                        date_min=date_min, date_max=date_max,\n",
    "                        dir_output=dir_output_data_cmems, file_prefix='cmems_', overwrite=overwrite)\n",
    "\n",
    "# CMEMS - boundary conditions file (.bc) and add to ext_bnd\n",
    "list_quantities = ['waterlevelbnd','salinitybnd','temperaturebnd','uxuyadvectionvelocitybnd']\n",
    "ext_new = dfmt.cmems_nc_to_bc(ext_bnd=ext_new,\n",
    "                              refdate_str=f'minutes since {ref_date} 00:00:00 +00:00',\n",
    "                              dir_output=dir_output,\n",
    "                              list_quantities=list_quantities,\n",
    "                              tstart=date_min,\n",
    "                              tstop=date_max, \n",
    "                              file_pli=poly_file,\n",
    "                              dir_pattern=os.path.join(dir_output_data_cmems,'cmems_{ncvarname}_*.nc'))\n",
    "\n",
    "#save new ext file\n",
    "ext_new.save(filepath=ext_file_new) # ,path_style=path_style)\n"
   ]
  },
  {
   "cell_type": "code",
   "execution_count": null,
   "id": "e731288d",
   "metadata": {},
   "outputs": [],
   "source": [
    "# plot downloaded CMEMS data\n",
    "file_cmems = os.path.join(dir_output_data,'cmems','*.nc')\n",
    "ds_cmems = xr.open_mfdataset(file_cmems)\n",
    "ds_cmems\n",
    "\n",
    "# plot\n",
    "fig, (ax1,ax2) = plt.subplots(1,2,figsize=(10,5))\n",
    "ds_cmems.so.isel(time=0,depth=0).plot(ax=ax1)\n",
    "dfmt.plot_coastlines(ax=ax1, crs=crs)\n",
    "ds_cmems.thetao.isel(time=0,depth=0).plot(ax=ax2)\n",
    "dfmt.plot_coastlines(ax=ax2, crs=crs)\n",
    "fig.tight_layout()\n"
   ]
  },
  {
   "cell_type": "code",
   "execution_count": null,
   "id": "281c44b0",
   "metadata": {},
   "outputs": [],
   "source": [
    "# plot interpolated CMEMS data (boundary conditions in .bc)\n",
    "file_bc_sal = os.path.join(dir_output,f'salinitybnd_{model_name}_CMEMS.bc')\n",
    "bc_obj_sal = hcdfm.ForcingModel(file_bc_sal)\n",
    "forcing_xr_sal = dfmt.forcinglike_to_Dataset(bc_obj_sal.forcing[0], convertnan=True)\n",
    "\n",
    "file_bc_uxuy = os.path.join(dir_output,f'uxuyadvectionvelocitybnd_{model_name}_CMEMS.bc')\n",
    "bc_obj_uxuy = hcdfm.ForcingModel(file_bc_uxuy)\n",
    "forcing_xr_uxuy = dfmt.forcinglike_to_Dataset(bc_obj_uxuy.forcing[0], convertnan=True)\n",
    "\n",
    "# plot\n",
    "fig, (ax1,ax2,ax3) = plt.subplots(3,1,sharex=True,sharey=True,figsize=(10,8))\n",
    "forcing_xr_sal['salinitybnd'].T.plot(ax=ax1)\n",
    "forcing_xr_uxuy['ux'].T.plot(ax=ax2)\n",
    "forcing_xr_uxuy['uy'].T.plot(ax=ax3)\n",
    "ax1.set_ylim(xu_grid_uds.mesh2d_node_z.min(),None)"
   ]
  },
  {
   "cell_type": "markdown",
   "id": "f3f508fd",
   "metadata": {},
   "source": [
    "## Generate ERA5 meteo forcing (old ext)"
   ]
  },
  {
   "cell_type": "code",
   "execution_count": null,
   "id": "05ea6ee6",
   "metadata": {},
   "outputs": [],
   "source": [
    "# generate old format external forcings file (.ext): spatial data\n",
    "ext_file_old = os.path.join(dir_output, f'{model_name}_old.ext')\n",
    "ext_old = hcdfm.ExtOldModel()\n",
    "\n",
    "# ERA5 - download spatial fields of air pressure, wind speeds and Charnock coefficient\n",
    "dir_output_data_era5 = os.path.join(dir_output_data,'ERA5')\n",
    "os.makedirs(dir_output_data_era5, exist_ok=True)\n",
    "    \n",
    "varlist_list = [['msl','u10n','v10n','chnk']]\n",
    "\n",
    "for varlist in varlist_list:\n",
    "    for varkey in varlist:\n",
    "        dfmt.download_ERA5(varkey, \n",
    "                           longitude_min=lon_min, longitude_max=lon_max, latitude_min=lat_min, latitude_max=lat_max,\n",
    "                           date_min=date_min, date_max=date_max,\n",
    "                           dir_output=dir_output_data_era5, overwrite=overwrite)\n",
    "\n",
    "# ERA5 meteo - convert to netCDF for usage in Delft3D FM\n",
    "ext_old = dfmt.preprocess_merge_meteofiles_era5(ext_old=ext_old,\n",
    "                                                varkey_list = varlist_list,\n",
    "                                                dir_data = dir_output_data_era5,\n",
    "                                                dir_output = dir_output,\n",
    "                                                time_slice = slice(date_min, date_max))\n",
    "\n",
    "ext_old.save(filepath=ext_file_old) # ,path_style=path_style)\n"
   ]
  },
  {
   "cell_type": "code",
   "execution_count": null,
   "id": "aa42e934",
   "metadata": {},
   "outputs": [],
   "source": [
    "# plot converted ERA5 data\n",
    "file_era5 = os.path.join(dir_output,'data','ERA5','*.nc')\n",
    "ds_era5 = xr.open_mfdataset(file_era5)\n",
    "ds_era5\n",
    "\n",
    "# plot\n",
    "fig, (ax1,ax2) = plt.subplots(1,2,figsize=(10,5))\n",
    "ds_era5.u10n.isel(time=0).plot(ax=ax1)\n",
    "dfmt.plot_coastlines(ax=ax1, crs=crs)\n",
    "ds_era5.v10n.isel(time=0).plot(ax=ax2)\n",
    "dfmt.plot_coastlines(ax=ax2, crs=crs)\n",
    "fig.tight_layout()\n"
   ]
  },
  {
   "cell_type": "markdown",
   "id": "81a65644",
   "metadata": {},
   "source": [
    "## Generate obsfile"
   ]
  },
  {
   "cell_type": "code",
   "execution_count": null,
   "id": "630f7aa2",
   "metadata": {},
   "outputs": [],
   "source": [
    "# generate obspoints on all grid faces\n",
    "xpts = xu_grid_uds.grid.face_x\n",
    "ypts = xu_grid_uds.grid.face_y\n",
    "npts = [f'x{x:.2f}_y{y:.2f}'.replace('.','p') for x,y in zip(xpts,ypts)]\n",
    "obs_pd = pd.DataFrame(dict(x=xpts,y=ypts,name=npts))\n",
    "\n",
    "# subselect n arbitary obspoints and plot\n",
    "n = 10\n",
    "ipts = np.random.randint(0, len(obs_pd), n)\n",
    "obs_pd = obs_pd.iloc[ipts]\n",
    "print(obs_pd)\n",
    "fig, ax = plt.subplots(figsize=(8,4))\n",
    "xu_grid_uds.grid.plot(ax=ax,linewidth=0.5,color='k',alpha=0.2)\n",
    "ax.plot(obs_pd['x'],obs_pd['y'],'rx')\n",
    "dfmt.plot_coastlines(ax=ax, crs=crs)\n",
    "\n",
    "# save obsfile\n",
    "file_obs = os.path.join(dir_output, f'{model_name}_obs.xyn')\n",
    "obs_pd.to_csv(file_obs, sep=' ', header=False, index=False, float_format='%.6f')\n"
   ]
  },
  {
   "cell_type": "markdown",
   "id": "0b238951",
   "metadata": {},
   "source": [
    "## Generate mdu file"
   ]
  },
  {
   "cell_type": "code",
   "execution_count": null,
   "id": "0f01a183",
   "metadata": {},
   "outputs": [],
   "source": [
    "# initialize mdu file and update settings\n",
    "mdu_file = os.path.join(dir_output, f'{model_name}.mdu')\n",
    "mdu = hcdfm.FMModel()\n",
    "\n",
    "# add the grid (_net.nc, network file)\n",
    "mdu.geometry.netfile = netfile\n",
    "\n",
    "# add the external forcing files (.ext)\n",
    "mdu.external_forcing.extforcefile = ext_file_old\n",
    "mdu.external_forcing.extforcefilenew = ext_new\n",
    "\n",
    "# update time settings\n",
    "mdu.time.refdate = pd.Timestamp(ref_date).strftime('%Y%m%d')\n",
    "mdu.time.tunit = 'S'\n",
    "mdu.time.dtmax = 30\n",
    "mdu.time.startdatetime = pd.Timestamp(date_min).strftime('%Y%m%d%H%M%S')\n",
    "mdu.time.stopdatetime = pd.Timestamp(date_max).strftime('%Y%m%d%H%M%S')\n",
    "mdu.time.autotimestep = 3\n",
    "\n",
    "# update output settings\n",
    "mdu.output.obsfile = file_obs\n",
    "mdu.output.hisinterval = [60]\n",
    "mdu.output.mapinterval = [1800]#[86400]\n",
    "mdu.output.rstinterval = [0]\n",
    "mdu.output.statsinterval = [3600]\n",
    "\n",
    "# save .mdu file\n",
    "mdu.save(mdu_file) # ,path_style=path_style)\n"
   ]
  },
  {
   "cell_type": "markdown",
   "id": "357d32a9",
   "metadata": {},
   "source": [
    "## Generate DIMR and bat file"
   ]
  },
  {
   "cell_type": "code",
   "execution_count": null,
   "id": "402cdb08",
   "metadata": {},
   "outputs": [],
   "source": [
    "file_dimr = os.path.join(dir_output,'dimr_config.xml')\n",
    "nproc = 2 # number of processes\n",
    "dimrset_folder = r\"c:\\Program Files\\Deltares\\Delft3D FM Suite 2023.03 HMWQ\\plugins\\DeltaShell.Dimr\\kernels\" #alternatively r\"p:\\d-hydro\\dimrset\\weekly\\2.25.17.78708\"\n",
    "dfmt.create_model_exec_files(file_dimr, file_mdu=mdu_file, model_name=model_name, nproc=nproc, dimrset_folder=dimrset_folder)\n"
   ]
  },
  {
   "cell_type": "markdown",
   "id": "cf77ed64",
   "metadata": {},
   "source": [
    "## Check written files in model directory"
   ]
  },
  {
   "cell_type": "code",
   "execution_count": null,
   "id": "25bcaec2",
   "metadata": {},
   "outputs": [],
   "source": [
    "# list all files\n",
    "os.listdir(dir_output)"
   ]
  },
  {
   "cell_type": "markdown",
   "id": "adafa434",
   "metadata": {},
   "source": [
    "# Exercises"
   ]
  },
  {
   "cell_type": "markdown",
   "id": "71868cac",
   "metadata": {},
   "source": [
    "After running the model generated above, the postprocessing notebook can be used to visualize your his and map output. Additionally, you can change the model input above and rerun the model builder and the model. It might be useful to check the [D-Flow FM manual](https://content.oss.deltares.nl/delft3d/D-Flow_FM_User_Manual.pdf) for background information. Some suggestions for model changes:\n",
    "- change/extend the model simulation period\n",
    "- apply more/less refinement to the grid\n",
    "- the observation points are randomly generated, add obspoints near actual cities/harbours/islands instead\n",
    "- add a observation cross-section near a harbour or river\n",
    "- add river inflow as a boundary condition (.pli and .bc in new format .ext or .pli and .tim in old format .ext)\n",
    "- convert this 2D model into a 3D model\n",
    "- enable the computation of salinity and temperature in the mdu (salinity=1 and temperature=5)\n",
    "- use the fourier smoothing time (tlfSmo) to make the model spinup less chaotic\n",
    "- try decreasing/increasing the buffer for the boundary pli. It is currently quite large for Vietnam since the used tide dataset lacks coverage near the coast.\n"
   ]
  },
  {
   "cell_type": "markdown",
   "id": "6e68ca38-f908-4e66-b51d-60b66b12bac5",
   "metadata": {},
   "source": [
    "# "
   ]
  }
 ],
 "metadata": {
  "kernelspec": {
   "display_name": "Python 3 (ipykernel)",
   "language": "python",
   "name": "python3"
  },
  "language_info": {
   "codemirror_mode": {
    "name": "ipython",
    "version": 3
   },
   "file_extension": ".py",
   "mimetype": "text/x-python",
   "name": "python",
   "nbconvert_exporter": "python",
   "pygments_lexer": "ipython3",
   "version": "3.11.5"
  }
 },
 "nbformat": 4,
 "nbformat_minor": 5
}
