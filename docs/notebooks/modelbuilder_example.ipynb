{
 "cells": [
  {
   "cell_type": "code",
   "execution_count": 1,
   "id": "31527e43",
   "metadata": {},
   "outputs": [],
   "source": [
    "# more advanced grid generation in https://github.com/Deltares/dfm_tools/blob/main/tests/examples_workinprogress/workinprogress_meshkernel_creategrid.py\n",
    "# more advanced modelbuilding in https://github.com/Deltares/dfm_tools/blob/main/tests/examples_workinprogress/workinprogress_modelbuilder.py\n",
    "import warnings\n",
    "with warnings.catch_warnings():\n",
    "    warnings.simplefilter(\"ignore\")\n",
    "    import os\n",
    "    import matplotlib.pyplot as plt\n",
    "    plt.close('all')\n",
    "    import dfm_tools as dfmt\n",
    "    from dfm_tools import modelbuilder as mb\n",
    "    import hydrolib.core.dflowfm as hcdfm\n",
    "    import xarray as xr\n",
    "    import pandas as pd\n",
    "    import contextily as ctx\n",
    "    import getpass\n"
   ]
  },
  {
   "cell_type": "code",
   "execution_count": 2,
   "id": "2a269ce9",
   "metadata": {},
   "outputs": [],
   "source": [
    "# input\n",
    "model_name = 'Bonaire'\n",
    "dir_output = './bonaire_model'\n",
    "path_style = 'unix' # windows / unix\n",
    "overwrite = False # used for downloading of forcing data. Always set to True when changing the domain\n",
    "is_geographic = True\n",
    "crs = 'EPSG:4326'\n",
    "\n",
    "# domain and resolution\n",
    "lon_min, lon_max, lat_min, lat_max = -68.55, -67.9, 11.8, 12.6\n",
    "dxy = 0.05\n",
    "\n",
    "#dates as understood by pandas.period_range(). ERA5 has freq='M' (month) and CMEMS has freq='D' (day)\n",
    "date_min = '2022-11-01'\n",
    "date_max = '2022-11-03'\n",
    "ref_date = '2022-01-01'\n"
   ]
  },
  {
   "cell_type": "code",
   "execution_count": 3,
   "id": "47f22ce4",
   "metadata": {},
   "outputs": [
    {
     "data": {
      "text/plain": [
       "['Bonaire.pli',\n",
       " 'Bonaire_net.nc',\n",
       " 'Bonaire_new.ext',\n",
       " 'data',\n",
       " 'era5_msl_u10n_v10n_chnk_20221101to20221103_ERA5.nc',\n",
       " 'salinitybnd_Bonaire_CMEMS.bc',\n",
       " 'temperaturebnd_Bonaire_CMEMS.bc',\n",
       " 'uxuyadvectionvelocitybnd_Bonaire_CMEMS.bc',\n",
       " 'waterlevelbnd_Bonaire_CMEMS.bc']"
      ]
     },
     "execution_count": 3,
     "metadata": {},
     "output_type": "execute_result"
    }
   ],
   "source": [
    "# make dirs and list all files\n",
    "os.makedirs(dir_output, exist_ok=True)\n",
    "dir_output_data = os.path.join(dir_output, 'data')\n",
    "os.makedirs(dir_output_data, exist_ok=True)\n",
    "os.listdir(dir_output)"
   ]
  },
  {
   "cell_type": "markdown",
   "id": "bb8b737e",
   "metadata": {},
   "source": [
    "## Grid generation and refinement with meshkernelpy\n",
    "\n",
    "Notebook with more details exposed: https://github.com/Deltares/MeshKernelPy/blob/main/docs/examples/06_mesh2d_refinement_gridded_samples_gebco.ipynb"
   ]
  },
  {
   "cell_type": "code",
   "execution_count": 4,
   "id": "e8a581c5",
   "metadata": {},
   "outputs": [
    {
     "name": "stdout",
     "output_type": "stream",
     "text": [
      ">> reading coastlines: "
     ]
    },
    {
     "ename": "type",
     "evalue": "Error loading libexpat-b4543f0fb6b2a452a7c4c77a028b833f.dll; The operation completed successfully.",
     "output_type": "error",
     "traceback": [
      "\u001b[1;31m---------------------------------------------------------------------------\u001b[0m",
      "\u001b[1;31mOSError\u001b[0m                                   Traceback (most recent call last)",
      "Cell \u001b[1;32mIn[4], line 8\u001b[0m\n\u001b[0;32m      6\u001b[0m mk_object\u001b[38;5;241m.\u001b[39mmesh2d_get()\u001b[38;5;241m.\u001b[39mplot_edges(ax,zorder\u001b[38;5;241m=\u001b[39m\u001b[38;5;241m1\u001b[39m)\n\u001b[0;32m      7\u001b[0m ctx\u001b[38;5;241m.\u001b[39madd_basemap(ax\u001b[38;5;241m=\u001b[39max, crs\u001b[38;5;241m=\u001b[39mcrs, attribution\u001b[38;5;241m=\u001b[39m\u001b[38;5;28;01mFalse\u001b[39;00m)\n\u001b[1;32m----> 8\u001b[0m \u001b[43mdfmt\u001b[49m\u001b[38;5;241;43m.\u001b[39;49m\u001b[43mplot_coastlines\u001b[49m\u001b[43m(\u001b[49m\u001b[43max\u001b[49m\u001b[38;5;241;43m=\u001b[39;49m\u001b[43max\u001b[49m\u001b[43m,\u001b[49m\u001b[43m \u001b[49m\u001b[43mcrs\u001b[49m\u001b[38;5;241;43m=\u001b[39;49m\u001b[43mcrs\u001b[49m\u001b[43m)\u001b[49m\n",
      "File \u001b[1;32mc:\\snapvolumestemp\\mountpoints\\{45c63495-0000-0000-0000-100000000000}\\{79de0690-9470-4166-b9ee-4548dc416bbd}\\svroot\\data\\dfm_tools\\dfm_tools\\coastlines.py:91\u001b[0m, in \u001b[0;36mplot_coastlines\u001b[1;34m(ax, res, min_area, crs, **kwargs)\u001b[0m\n\u001b[0;32m     88\u001b[0m \u001b[38;5;28;01mif\u001b[39;00m \u001b[38;5;124m'\u001b[39m\u001b[38;5;124mlinewidth\u001b[39m\u001b[38;5;124m'\u001b[39m \u001b[38;5;129;01mnot\u001b[39;00m \u001b[38;5;129;01min\u001b[39;00m kwargs:\n\u001b[0;32m     89\u001b[0m     kwargs[\u001b[38;5;124m'\u001b[39m\u001b[38;5;124mlinewidth\u001b[39m\u001b[38;5;124m'\u001b[39m] \u001b[38;5;241m=\u001b[39m \u001b[38;5;241m0.7\u001b[39m\n\u001b[1;32m---> 91\u001b[0m coastlines_gdb \u001b[38;5;241m=\u001b[39m \u001b[43mget_coastlines_gdb\u001b[49m\u001b[43m(\u001b[49m\u001b[43mbbox\u001b[49m\u001b[38;5;241;43m=\u001b[39;49m\u001b[43mbbox\u001b[49m\u001b[43m,\u001b[49m\u001b[43m \u001b[49m\u001b[43mres\u001b[49m\u001b[38;5;241;43m=\u001b[39;49m\u001b[43mres\u001b[49m\u001b[43m,\u001b[49m\u001b[43m \u001b[49m\u001b[43mmin_area\u001b[49m\u001b[38;5;241;43m=\u001b[39;49m\u001b[43mmin_area\u001b[49m\u001b[43m,\u001b[49m\u001b[43m \u001b[49m\u001b[43mcrs\u001b[49m\u001b[38;5;241;43m=\u001b[39;49m\u001b[43mcrs\u001b[49m\u001b[43m)\u001b[49m\n\u001b[0;32m     92\u001b[0m \u001b[38;5;28;01mif\u001b[39;00m coastlines_gdb\u001b[38;5;241m.\u001b[39mempty:\n\u001b[0;32m     93\u001b[0m     \u001b[38;5;28;01mreturn\u001b[39;00m\n",
      "File \u001b[1;32mc:\\snapvolumestemp\\mountpoints\\{45c63495-0000-0000-0000-100000000000}\\{79de0690-9470-4166-b9ee-4548dc416bbd}\\svroot\\data\\dfm_tools\\dfm_tools\\coastlines.py:57\u001b[0m, in \u001b[0;36mget_coastlines_gdb\u001b[1;34m(res, bbox, min_area, crs, include_fields)\u001b[0m\n\u001b[0;32m     55\u001b[0m \u001b[38;5;28mprint\u001b[39m(\u001b[38;5;124m'\u001b[39m\u001b[38;5;124m>> reading coastlines: \u001b[39m\u001b[38;5;124m'\u001b[39m,end\u001b[38;5;241m=\u001b[39m\u001b[38;5;124m'\u001b[39m\u001b[38;5;124m'\u001b[39m)\n\u001b[0;32m     56\u001b[0m dtstart \u001b[38;5;241m=\u001b[39m dt\u001b[38;5;241m.\u001b[39mdatetime\u001b[38;5;241m.\u001b[39mnow()\n\u001b[1;32m---> 57\u001b[0m coastlines_gdb_L1 \u001b[38;5;241m=\u001b[39m \u001b[43mgpd\u001b[49m\u001b[38;5;241;43m.\u001b[39;49m\u001b[43mread_file\u001b[49m\u001b[43m(\u001b[49m\u001b[43mfile_shp_L1\u001b[49m\u001b[43m,\u001b[49m\u001b[43m \u001b[49m\u001b[43minclude_fields\u001b[49m\u001b[38;5;241;43m=\u001b[39;49m\u001b[43minclude_fields\u001b[49m\u001b[43m,\u001b[49m\u001b[43m \u001b[49m\u001b[43mwhere\u001b[49m\u001b[38;5;241;43m=\u001b[39;49m\u001b[38;5;124;43mf\u001b[39;49m\u001b[38;5;124;43m\"\u001b[39;49m\u001b[38;5;124;43marea>\u001b[39;49m\u001b[38;5;132;43;01m{\u001b[39;49;00m\u001b[43mmin_area\u001b[49m\u001b[38;5;132;43;01m}\u001b[39;49;00m\u001b[38;5;124;43m\"\u001b[39;49m\u001b[43m,\u001b[49m\u001b[43m \u001b[49m\u001b[43mbbox\u001b[49m\u001b[38;5;241;43m=\u001b[39;49m\u001b[43mbbox\u001b[49m\u001b[43m)\u001b[49m\n\u001b[0;32m     58\u001b[0m coastlines_gdb_L6 \u001b[38;5;241m=\u001b[39m gpd\u001b[38;5;241m.\u001b[39mread_file(file_shp_L6, include_fields\u001b[38;5;241m=\u001b[39minclude_fields, where\u001b[38;5;241m=\u001b[39m\u001b[38;5;124mf\u001b[39m\u001b[38;5;124m\"\u001b[39m\u001b[38;5;124marea>\u001b[39m\u001b[38;5;132;01m{\u001b[39;00mmin_area\u001b[38;5;132;01m}\u001b[39;00m\u001b[38;5;124m\"\u001b[39m, bbox\u001b[38;5;241m=\u001b[39mbbox)\n\u001b[0;32m     59\u001b[0m coastlines_gdb_list \u001b[38;5;241m=\u001b[39m [coastlines_gdb_L1,coastlines_gdb_L6]\n",
      "File \u001b[1;32m~\\Anaconda3\\envs\\dfm_tools_env\\lib\\site-packages\\geopandas\\io\\file.py:255\u001b[0m, in \u001b[0;36m_read_file\u001b[1;34m(filename, bbox, mask, rows, engine, **kwargs)\u001b[0m\n\u001b[0;32m    174\u001b[0m \u001b[38;5;28;01mdef\u001b[39;00m \u001b[38;5;21m_read_file\u001b[39m(filename, bbox\u001b[38;5;241m=\u001b[39m\u001b[38;5;28;01mNone\u001b[39;00m, mask\u001b[38;5;241m=\u001b[39m\u001b[38;5;28;01mNone\u001b[39;00m, rows\u001b[38;5;241m=\u001b[39m\u001b[38;5;28;01mNone\u001b[39;00m, engine\u001b[38;5;241m=\u001b[39m\u001b[38;5;28;01mNone\u001b[39;00m, \u001b[38;5;241m*\u001b[39m\u001b[38;5;241m*\u001b[39mkwargs):\n\u001b[0;32m    175\u001b[0m \u001b[38;5;250m    \u001b[39m\u001b[38;5;124;03m\"\"\"\u001b[39;00m\n\u001b[0;32m    176\u001b[0m \u001b[38;5;124;03m    Returns a GeoDataFrame from a file or URL.\u001b[39;00m\n\u001b[0;32m    177\u001b[0m \n\u001b[1;32m   (...)\u001b[0m\n\u001b[0;32m    253\u001b[0m \n\u001b[0;32m    254\u001b[0m \u001b[38;5;124;03m    \"\"\"\u001b[39;00m\n\u001b[1;32m--> 255\u001b[0m     engine \u001b[38;5;241m=\u001b[39m \u001b[43m_check_engine\u001b[49m\u001b[43m(\u001b[49m\u001b[43mengine\u001b[49m\u001b[43m,\u001b[49m\u001b[43m \u001b[49m\u001b[38;5;124;43m\"\u001b[39;49m\u001b[38;5;124;43m'\u001b[39;49m\u001b[38;5;124;43mread_file\u001b[39;49m\u001b[38;5;124;43m'\u001b[39;49m\u001b[38;5;124;43m function\u001b[39;49m\u001b[38;5;124;43m\"\u001b[39;49m\u001b[43m)\u001b[49m\n\u001b[0;32m    257\u001b[0m     filename \u001b[38;5;241m=\u001b[39m _expand_user(filename)\n\u001b[0;32m    259\u001b[0m     from_bytes \u001b[38;5;241m=\u001b[39m \u001b[38;5;28;01mFalse\u001b[39;00m\n",
      "File \u001b[1;32m~\\Anaconda3\\envs\\dfm_tools_env\\lib\\site-packages\\geopandas\\io\\file.py:99\u001b[0m, in \u001b[0;36m_check_engine\u001b[1;34m(engine, func)\u001b[0m\n\u001b[0;32m     96\u001b[0m \u001b[38;5;28;01mdef\u001b[39;00m \u001b[38;5;21m_check_engine\u001b[39m(engine, func):\n\u001b[0;32m     97\u001b[0m     \u001b[38;5;66;03m# default to \"fiona\" if installed, otherwise try pyogrio\u001b[39;00m\n\u001b[0;32m     98\u001b[0m     \u001b[38;5;28;01mif\u001b[39;00m engine \u001b[38;5;129;01mis\u001b[39;00m \u001b[38;5;28;01mNone\u001b[39;00m:\n\u001b[1;32m---> 99\u001b[0m         \u001b[43m_import_fiona\u001b[49m\u001b[43m(\u001b[49m\u001b[43m)\u001b[49m\n\u001b[0;32m    100\u001b[0m         \u001b[38;5;28;01mif\u001b[39;00m fiona:\n\u001b[0;32m    101\u001b[0m             engine \u001b[38;5;241m=\u001b[39m \u001b[38;5;124m\"\u001b[39m\u001b[38;5;124mfiona\u001b[39m\u001b[38;5;124m\"\u001b[39m\n",
      "File \u001b[1;32m~\\Anaconda3\\envs\\dfm_tools_env\\lib\\site-packages\\geopandas\\io\\file.py:42\u001b[0m, in \u001b[0;36m_import_fiona\u001b[1;34m()\u001b[0m\n\u001b[0;32m     40\u001b[0m \u001b[38;5;28;01mif\u001b[39;00m fiona \u001b[38;5;129;01mis\u001b[39;00m \u001b[38;5;28;01mNone\u001b[39;00m:\n\u001b[0;32m     41\u001b[0m     \u001b[38;5;28;01mtry\u001b[39;00m:\n\u001b[1;32m---> 42\u001b[0m         \u001b[38;5;28;01mimport\u001b[39;00m \u001b[38;5;21;01mfiona\u001b[39;00m\n\u001b[0;32m     44\u001b[0m         \u001b[38;5;66;03m# only try to import fiona.Env if the main fiona import succeeded\u001b[39;00m\n\u001b[0;32m     45\u001b[0m         \u001b[38;5;66;03m# (otherwise you can get confusing \"AttributeError: module 'fiona'\u001b[39;00m\n\u001b[0;32m     46\u001b[0m         \u001b[38;5;66;03m# has no attribute '_loading'\" / partially initialized module errors)\u001b[39;00m\n\u001b[0;32m     47\u001b[0m         \u001b[38;5;28;01mtry\u001b[39;00m:\n",
      "File \u001b[1;32m~\\Anaconda3\\envs\\dfm_tools_env\\lib\\site-packages\\fiona\\__init__.py:46\u001b[0m\n\u001b[0;32m     42\u001b[0m                 \u001b[38;5;28;01mif\u001b[39;00m os\u001b[38;5;241m.\u001b[39mpath\u001b[38;5;241m.\u001b[39misfile(lib_path) \u001b[38;5;129;01mand\u001b[39;00m \u001b[38;5;129;01mnot\u001b[39;00m ctypes\u001b[38;5;241m.\u001b[39mwindll\u001b[38;5;241m.\u001b[39mkernel32\u001b[38;5;241m.\u001b[39mLoadLibraryExW(ctypes\u001b[38;5;241m.\u001b[39mc_wchar_p(lib_path), \u001b[38;5;28;01mNone\u001b[39;00m, \u001b[38;5;241m0x00000008\u001b[39m):\n\u001b[0;32m     43\u001b[0m                     \u001b[38;5;28;01mraise\u001b[39;00m \u001b[38;5;167;01mOSError\u001b[39;00m(\u001b[38;5;124m'\u001b[39m\u001b[38;5;124mError loading \u001b[39m\u001b[38;5;132;01m{}\u001b[39;00m\u001b[38;5;124m; \u001b[39m\u001b[38;5;132;01m{}\u001b[39;00m\u001b[38;5;124m'\u001b[39m\u001b[38;5;241m.\u001b[39mformat(lib, ctypes\u001b[38;5;241m.\u001b[39mFormatError()))\n\u001b[1;32m---> 46\u001b[0m \u001b[43m_delvewheel_init_patch_1_3_7\u001b[49m\u001b[43m(\u001b[49m\u001b[43m)\u001b[49m\n\u001b[0;32m     47\u001b[0m \u001b[38;5;28;01mdel\u001b[39;00m _delvewheel_init_patch_1_3_7\n\u001b[0;32m     48\u001b[0m \u001b[38;5;66;03m# end delvewheel patch\u001b[39;00m\n",
      "File \u001b[1;32m~\\Anaconda3\\envs\\dfm_tools_env\\lib\\site-packages\\fiona\\__init__.py:43\u001b[0m, in \u001b[0;36m_delvewheel_init_patch_1_3_7\u001b[1;34m()\u001b[0m\n\u001b[0;32m     41\u001b[0m lib_path \u001b[38;5;241m=\u001b[39m os\u001b[38;5;241m.\u001b[39mpath\u001b[38;5;241m.\u001b[39mjoin(os\u001b[38;5;241m.\u001b[39mpath\u001b[38;5;241m.\u001b[39mjoin(libs_dir, lib))\n\u001b[0;32m     42\u001b[0m \u001b[38;5;28;01mif\u001b[39;00m os\u001b[38;5;241m.\u001b[39mpath\u001b[38;5;241m.\u001b[39misfile(lib_path) \u001b[38;5;129;01mand\u001b[39;00m \u001b[38;5;129;01mnot\u001b[39;00m ctypes\u001b[38;5;241m.\u001b[39mwindll\u001b[38;5;241m.\u001b[39mkernel32\u001b[38;5;241m.\u001b[39mLoadLibraryExW(ctypes\u001b[38;5;241m.\u001b[39mc_wchar_p(lib_path), \u001b[38;5;28;01mNone\u001b[39;00m, \u001b[38;5;241m0x00000008\u001b[39m):\n\u001b[1;32m---> 43\u001b[0m     \u001b[38;5;28;01mraise\u001b[39;00m \u001b[38;5;167;01mOSError\u001b[39;00m(\u001b[38;5;124m'\u001b[39m\u001b[38;5;124mError loading \u001b[39m\u001b[38;5;132;01m{}\u001b[39;00m\u001b[38;5;124m; \u001b[39m\u001b[38;5;132;01m{}\u001b[39;00m\u001b[38;5;124m'\u001b[39m\u001b[38;5;241m.\u001b[39mformat(lib, ctypes\u001b[38;5;241m.\u001b[39mFormatError()))\n",
      "\u001b[1;31mOSError\u001b[0m: Error loading libexpat-b4543f0fb6b2a452a7c4c77a028b833f.dll; The operation completed successfully."
     ]
    },
    {
     "data": {
      "image/png": "[encoded data removed]",
      "text/plain": [
       "<Figure size 640x480 with 1 Axes>"
      ]
     },
     "metadata": {},
     "output_type": "display_data"
    }
   ],
   "source": [
    "#generate spherical regular grid\n",
    "mk_object = dfmt.make_basegrid(lon_min, lon_max, lat_min, lat_max, dx=dxy, dy=dxy, is_geographic=is_geographic)\n",
    "\n",
    "#plot\n",
    "fig, ax = plt.subplots()\n",
    "mk_object.mesh2d_get().plot_edges(ax,zorder=1)\n",
    "ctx.add_basemap(ax=ax, crs=crs, attribution=False)\n",
    "dfmt.plot_coastlines(ax=ax, crs=crs)\n"
   ]
  },
  {
   "cell_type": "code",
   "execution_count": null,
   "id": "4f3429ea",
   "metadata": {},
   "outputs": [],
   "source": [
    "# refine grid\n",
    "\n",
    "# connect to an example Bonaire cutout of the GEBCO_2021 dataset on OPeNDAP\n",
    "# alternatively download your own cutout from https://download.gebco.net (use a buffer of e.g. 1 degree)\n",
    "file_gebco = 'https://opendap.deltares.nl/thredds/dodsC/opendap/deltares/Delft3D/netcdf_example_files/GEBCO_2021_bonaire/GEBCO_2021_bonaire.nc'\n",
    "data_bathy_sel = xr.open_dataset(file_gebco)\n",
    "\n",
    "#refine\n",
    "min_edge_size = 300 #in meters\n",
    "dfmt.refine_basegrid(mk=mk_object, data_bathy_sel=data_bathy_sel, min_edge_size=min_edge_size)\n",
    "\n",
    "#plot\n",
    "fig, ax = plt.subplots()\n",
    "mk_object.mesh2d_get().plot_edges(ax,zorder=1)\n",
    "ctx.add_basemap(ax=ax, crs=crs, attribution=False)\n",
    "dfmt.plot_coastlines(ax=ax, crs=crs)\n"
   ]
  },
  {
   "cell_type": "code",
   "execution_count": null,
   "id": "50b21c40",
   "metadata": {},
   "outputs": [],
   "source": [
    "# remove land with GSHHS coastlines\n",
    "dfmt.meshkernel_delete_withcoastlines(mk=mk_object, res='h')\n",
    "\n",
    "#plot\n",
    "fig, ax = plt.subplots()\n",
    "mk_object.mesh2d_get().plot_edges(ax,zorder=1)\n",
    "ctx.add_basemap(ax=ax, crs=crs, attribution=False)\n",
    "dfmt.plot_coastlines(ax=ax, crs=crs)\n"
   ]
  },
  {
   "cell_type": "code",
   "execution_count": null,
   "id": "291abec0",
   "metadata": {},
   "outputs": [],
   "source": [
    "#convert to xugrid, interpolate z-values and write to netcdf\n",
    "xu_grid_uds = dfmt.meshkernel_to_UgridDataset(mk=mk_object, crs=crs)\n",
    "\n",
    "#interp bathy\n",
    "data_bathy_interp = data_bathy_sel.interp(lon=xu_grid_uds.obj.mesh2d_node_x, lat=xu_grid_uds.obj.mesh2d_node_y).reset_coords(['lat','lon'])\n",
    "xu_grid_uds['mesh2d_node_z'] = data_bathy_interp.elevation.clip(max=10)\n",
    "\n",
    "#plot bathy and grid\n",
    "fig, ax = plt.subplots(figsize=(8,4))\n",
    "xu_grid_uds.mesh2d_node_z.ugrid.plot(ax=ax,center=False)\n",
    "xu_grid_uds.grid.plot(ax=ax,linewidth=0.5,color='white',alpha=0.2)\n",
    "ctx.add_basemap(ax=ax, crs=crs, attribution=False)\n",
    "dfmt.plot_coastlines(ax=ax, crs=crs)\n",
    "\n",
    "#write xugrid grid to netcdf\n",
    "netfile  = os.path.join(dir_output, f'{model_name}_net.nc')\n",
    "xu_grid_uds.ugrid.to_netcdf(netfile)\n"
   ]
  },
  {
   "cell_type": "markdown",
   "id": "15014db3",
   "metadata": {},
   "source": [
    "## Generate boundary polyline and write to file"
   ]
  },
  {
   "cell_type": "code",
   "execution_count": null,
   "id": "25087dac",
   "metadata": {},
   "outputs": [],
   "source": [
    "# generate plifile from grid extent\n",
    "grid_bounds = xu_grid_uds.grid.bounds\n",
    "pli_polyfile = dfmt.generate_bndpli(lon_min=grid_bounds[0], lon_max=grid_bounds[2], lat_min=grid_bounds[1], lat_max=grid_bounds[3], dlon=dxy, dlat=dxy, name=f'{model_name}_bnd')\n",
    "poly_file = os.path.join(dir_output, f'{model_name}.pli')\n",
    "pli_polyfile.save(poly_file)\n",
    "\n",
    "# plot\n",
    "polyfile_object = hcdfm.PolyFile(poly_file)\n",
    "gdf_polyfile = dfmt.PolyFile_to_geodataframe_linestrings(polyfile_object,crs=crs)\n",
    "ax = gdf_polyfile.plot(edgecolor='r')\n",
    "ctx.add_basemap(ax=ax, crs=crs, attribution=False)\n",
    "dfmt.plot_coastlines(ax=ax, crs=crs)\n"
   ]
  },
  {
   "cell_type": "markdown",
   "id": "9a42a849",
   "metadata": {},
   "source": [
    "## Generate boundary conditions from FES2014 and CMEMS (new ext)"
   ]
  },
  {
   "cell_type": "code",
   "execution_count": null,
   "id": "edfc0c61",
   "metadata": {},
   "outputs": [],
   "source": [
    "# new ext: initial and open boundary condition\n",
    "ext_file_new = os.path.join(dir_output, f'{model_name}_new.ext')\n",
    "ext_new = hcdfm.ExtModel()\n",
    "\n",
    "# # interpolate FES2014 tidal components bc file (will not work on binder)\n",
    "# file_bc_basename = os.path.basename(poly_file).replace('.pli','')\n",
    "# ForcingModel_object = dfmt.interpolate_tide_to_bc(tidemodel='FES2014', file_pli=poly_file, component_list=None) # tidemodel: FES2014, FES2012, EOT20, GTSM4.1preliminary\n",
    "# file_bc_out = os.path.join(dir_output,f'tide_{file_bc_basename}_FES2014.bc')\n",
    "# ForcingModel_object.save(filepath=file_bc_out)\n",
    "# boundary_object = hcdfm.Boundary(quantity='waterlevelbnd', #the FM quantity for tide is also waterlevelbnd\n",
    "#                                  locationfile=poly_file,\n",
    "#                                  forcingfile=ForcingModel_object)\n",
    "# ext_new.boundary.append(boundary_object)\n",
    "\n",
    "# CMEMS - download\n",
    "dir_output_data_cmems = os.path.join(dir_output_data, 'cmems')\n",
    "os.makedirs(dir_output_data_cmems, exist_ok=True)\n",
    "for varkey in ['so','thetao','uo','vo','zos']:\n",
    "    dfmt.download_CMEMS(varkey=varkey,\n",
    "                        longitude_min=lon_min, longitude_max=lon_max, latitude_min=lat_min, latitude_max=lat_max,\n",
    "                        date_min=date_min, date_max=date_max,\n",
    "                        dir_output=dir_output_data_cmems, file_prefix='cmems_', overwrite=overwrite)\n",
    "\n",
    "# CMEMS - boundary conditions file (.bc) (and add to ext_bnd)\n",
    "list_quantities = ['waterlevelbnd','salinitybnd','temperaturebnd','uxuyadvectionvelocitybnd']\n",
    "ext_new = mb.cmems_nc_to_bc(ext_bnd=ext_new,\n",
    "                            refdate_str=f'minutes since {ref_date} 00:00:00 +00:00',\n",
    "                            dir_output=dir_output,\n",
    "                            list_quantities=list_quantities,\n",
    "                            tstart=date_min,\n",
    "                            tstop=date_max, \n",
    "                            file_pli=poly_file,\n",
    "                            dir_pattern=os.path.join(dir_output_data_cmems,'cmems_{ncvarname}_*.nc'))\n",
    "\n",
    "#save new ext file\n",
    "ext_new.save(filepath=ext_file_new,path_style=path_style)\n"
   ]
  },
  {
   "cell_type": "code",
   "execution_count": null,
   "id": "e731288d",
   "metadata": {},
   "outputs": [],
   "source": [
    "# plot CMEMS data\n",
    "file_cmems = os.path.join(dir_output,'data','cmems','*.nc')\n",
    "ds_cmems = xr.open_mfdataset(file_cmems)\n",
    "ds_cmems\n",
    "\n",
    "#plot\n",
    "fig, (ax1,ax2) = plt.subplots(1,2,figsize=(10,5))\n",
    "ds_cmems.so.isel(time=0,depth=0).plot(ax=ax1)\n",
    "dfmt.plot_coastlines(ax=ax1, crs=crs)\n",
    "ds_cmems.thetao.isel(time=0,depth=0).plot(ax=ax2)\n",
    "dfmt.plot_coastlines(ax=ax2, crs=crs)\n",
    "fig.tight_layout()\n"
   ]
  },
  {
   "cell_type": "code",
   "execution_count": null,
   "id": "281c44b0",
   "metadata": {},
   "outputs": [],
   "source": [
    "#plot interpolated CMEMS data\n",
    "file_bc_sal = os.path.join(dir_output,'salinitybnd_Bonaire_CMEMS.bc')\n",
    "bc_obj_sal = hcdfm.ForcingModel(file_bc_sal)\n",
    "forcing_xr_sal = dfmt.forcinglike_to_Dataset(bc_obj_sal.forcing[0], convertnan=True)\n",
    "\n",
    "file_bc_uxuy = os.path.join(dir_output,'uxuyadvectionvelocitybnd_Bonaire_CMEMS.bc')\n",
    "bc_obj_uxuy = hcdfm.ForcingModel(file_bc_uxuy)\n",
    "forcing_xr_uxuy = dfmt.forcinglike_to_Dataset(bc_obj_uxuy.forcing[0], convertnan=True)\n",
    "\n",
    "#plot\n",
    "fig, (ax1,ax2,ax3) = plt.subplots(3,1,sharex=True,sharey=True,figsize=(10,8))\n",
    "forcing_xr_sal['salinitybnd'].T.plot(ax=ax1)\n",
    "forcing_xr_uxuy['ux'].T.plot(ax=ax2)\n",
    "forcing_xr_uxuy['uy'].T.plot(ax=ax3)\n",
    "ax1.set_ylim(-3000,None)"
   ]
  },
  {
   "cell_type": "markdown",
   "id": "f3f508fd",
   "metadata": {},
   "source": [
    "## Generate ERA5 meteo forcing (old ext)"
   ]
  },
  {
   "cell_type": "code",
   "execution_count": null,
   "id": "05ea6ee6",
   "metadata": {},
   "outputs": [],
   "source": [
    "# old ext\n",
    "\n",
    "# CMEMS - initial condition file\n",
    "ext_file_old = os.path.join(dir_output, f'{model_name}_old.ext')\n",
    "ext_old = hcdfm.ExtOldModel()\n",
    "\n",
    "# ERA5 - download\n",
    "dir_output_data_era5 = os.path.join(dir_output_data,'ERA5')\n",
    "os.makedirs(dir_output_data_era5, exist_ok=True)\n",
    "    \n",
    "varlist_list = [['msl','u10n','v10n','chnk']]\n",
    "\n",
    "for varlist in varlist_list:\n",
    "    for varkey in varlist:\n",
    "        dfmt.download_ERA5(varkey, \n",
    "                           longitude_min=lon_min, longitude_max=lon_max, latitude_min=lat_min, latitude_max=lat_max,\n",
    "                           date_min=date_min, date_max=date_max,\n",
    "                           dir_output=dir_output_data_era5, overwrite=overwrite)\n",
    "\n",
    "# ERA5 meteo - convert to netCDF for usage in Delft3D FM\n",
    "ext_old = mb.preprocess_merge_meteofiles_era5(ext_old=ext_old,\n",
    "                                              varkey_list = varlist_list,\n",
    "                                              dir_data = dir_output_data_era5,\n",
    "                                              dir_output = dir_output,\n",
    "                                              time_slice = slice(date_min, date_max))\n",
    "\n",
    "ext_old.save(filepath=ext_file_old,path_style=path_style)\n"
   ]
  },
  {
   "cell_type": "code",
   "execution_count": null,
   "id": "aa42e934",
   "metadata": {},
   "outputs": [],
   "source": [
    "# plot ERA5 data example\n",
    "file_era5 = os.path.join(dir_output,'data','ERA5','*.nc')\n",
    "ds_era5 = xr.open_mfdataset(file_era5)\n",
    "ds_era5\n",
    "\n",
    "#plot\n",
    "fig, (ax1,ax2) = plt.subplots(1,2,figsize=(10,5))\n",
    "ds_era5.u10n.isel(time=0).plot(ax=ax1)\n",
    "dfmt.plot_coastlines(ax=ax1, crs=crs)\n",
    "ds_era5.v10n.isel(time=0).plot(ax=ax2)\n",
    "dfmt.plot_coastlines(ax=ax2, crs=crs)\n",
    "fig.tight_layout()\n"
   ]
  },
  {
   "cell_type": "markdown",
   "id": "0b238951",
   "metadata": {},
   "source": [
    "## Generate mdu file"
   ]
  },
  {
   "cell_type": "code",
   "execution_count": null,
   "id": "0f01a183",
   "metadata": {},
   "outputs": [],
   "source": [
    "# initialize mdu file and update settings\n",
    "mdu_file = os.path.join(dir_output, f'{model_name}.mdu')\n",
    "mdu = hcdfm.FMModel()\n",
    "\n",
    "mdu.external_forcing.extforcefile = ext_file_old\n",
    "mdu.external_forcing.extforcefilenew = ext_new\n",
    "\n",
    "mdu.time.refdate = pd.Timestamp(ref_date).strftime('%Y%m%d')\n",
    "mdu.time.tunit = 'S'\n",
    "mdu.time.dtmax = 30\n",
    "mdu.time.startdatetime = pd.Timestamp(date_min).strftime('%Y%m%d%H%M%S')\n",
    "mdu.time.stopdatetime = pd.Timestamp(date_max).strftime('%Y%m%d%H%M%S')\n",
    "mdu.time.autotimestep = 3\n",
    "\n",
    "#mdu.output.obsfile = 'stations_obs.xyn'\n",
    "mdu.output.hisinterval = [60]\n",
    "mdu.output.mapinterval = [1800]#[86400]\n",
    "mdu.output.rstinterval = [0]\n",
    "mdu.output.statsinterval = [3600]\n",
    "\n",
    "#%% export model\n",
    "mdu.save(mdu_file,path_style=path_style)\n"
   ]
  },
  {
   "cell_type": "markdown",
   "id": "cf77ed64",
   "metadata": {},
   "source": [
    "## Check written files in model directory"
   ]
  },
  {
   "cell_type": "code",
   "execution_count": null,
   "id": "25bcaec2",
   "metadata": {},
   "outputs": [],
   "source": [
    "os.listdir(dir_output)"
   ]
  },
  {
   "cell_type": "code",
   "execution_count": null,
   "id": "a9a23813",
   "metadata": {},
   "outputs": [],
   "source": []
  }
 ],
 "metadata": {
  "kernelspec": {
   "display_name": "Python 3 (ipykernel)",
   "language": "python",
   "name": "python3"
  },
  "language_info": {
   "codemirror_mode": {
    "name": "ipython",
    "version": 3
   },
   "file_extension": ".py",
   "mimetype": "text/x-python",
   "name": "python",
   "nbconvert_exporter": "python",
   "pygments_lexer": "ipython3",
   "version": "3.9.16"
  }
 },
 "nbformat": 4,
 "nbformat_minor": 5
}
